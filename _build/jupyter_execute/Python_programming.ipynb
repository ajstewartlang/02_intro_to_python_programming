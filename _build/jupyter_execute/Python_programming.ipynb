{
 "cells": [
  {
   "cell_type": "markdown",
   "id": "upset-evidence",
   "metadata": {},
   "source": [
    "# Introduction to Python Programming"
   ]
  },
  {
   "cell_type": "markdown",
   "id": "emerging-sauce",
   "metadata": {},
   "source": [
    "In this second workshop we'll take our first look at programming in Python. We'll cover the key data types, as well as functions, and control flow statements. "
   ]
  },
  {
   "cell_type": "code",
   "execution_count": 1,
   "id": "unknown-digit",
   "metadata": {
    "tags": [
     "hide-input"
    ]
   },
   "outputs": [
    {
     "data": {
      "text/html": [
       "<div style=\"text-align: center\">\n",
       "<iframe width=\"560\" height=\"315\" src=\"https://youtube.com/embed/HjF98JryayQ\" frameborder=\"0\" allowfullscreen></iframe>\n",
       "\n",
       "</div>\n"
      ],
      "text/plain": [
       "<IPython.core.display.HTML object>"
      ]
     },
     "metadata": {},
     "output_type": "display_data"
    }
   ],
   "source": [
    "%%HTML\n",
    "<div style=\"text-align: center\">\n",
    "<iframe width=\"560\" height=\"315\" src=\"https://youtube.com/embed/HjF98JryayQ\" frameborder=\"0\" allowfullscreen></iframe>\n",
    "\n",
    "</div>"
   ]
  },
  {
   "cell_type": "markdown",
   "id": "anticipated-psychiatry",
   "metadata": {},
   "source": [
    "### Slides\n",
    "\n",
    "You can view and download the slides in a variety of formats by clicking on the image below.\n",
    "\n",
    "<center>\n",
    "\n",
    "[![link_to_slides](images/intro_slides.png)](https://docs.google.com/presentation/d/1yWZ8Q_MD4RGkeqDTDukaS7T18oX08BmONcaLwZNAAKk/edit?usp=sharing)\n",
    "    \n",
    "</center>"
   ]
  },
  {
   "cell_type": "markdown",
   "id": "fossil-digit",
   "metadata": {},
   "source": [
    "## Data Types and Variable Assignment\n",
    "\n",
    "This is a Jupyter Notebook. It allows use to write text in Markdown format (as we have in this block), and also run Python code and see the output. If you have completed the previous workshop, you should be able to launch a Jupyter Notebook on your own machine. Make sure you have a conda environment activated (type `conda activate` in your terminal if you don't). Set up a new Notecook by typing `jupyter notebook` in a terminal window. This should launch Jupyter Notebooks running in your browser. \n",
    "\n",
    "    conda activate\n",
    "    jupyter notebook\n",
    "\n",
    "Start a new Python script in your `Python (data_science)` environment.\n",
    "\n",
    "![](images/new_notebook.png)\n",
    "\n",
    "Some of the most common data types in Python are integer (`int`) and floating point (`float`) for representing numbers, and strings (`str`) for representing text. We can assign values to variables - the data type is dynamically inferred by Python (in contrast to other languages such as C++ where they have to be explicitly declared). You can check what type a variable is by using `type()`.\n",
    "\n",
    "Try running the following two lines of Python code in your Jupyter Notebook."
   ]
  },
  {
   "cell_type": "code",
   "execution_count": 2,
   "id": "permanent-geometry",
   "metadata": {},
   "outputs": [
    {
     "name": "stdout",
     "output_type": "stream",
     "text": [
      "<class 'str'>\n"
     ]
    }
   ],
   "source": [
    "my_name = \"Andrew\"\n",
    "print(type(my_name))"
   ]
  },
  {
   "cell_type": "markdown",
   "id": "individual-paint",
   "metadata": {},
   "source": [
    "In the output, you should see that the variable `my_name` has been identified as type `str` as it is contains text.\n",
    "\n",
    "Assigning values to variables is a key component in scripting/coding. You can use variables to store values that you need to be able to access later, and variables can be re-assigned as your script progresses (maybe you want to store temporary values in a variable). You can print the content of a variable using the `print(variable_name)` function in Python. In the code below, we create two variables. The `print` function can take multiple arguments so we can print the values of the two variables with the line `print(first_variable_name, second_variable_name)`.\n"
   ]
  },
  {
   "cell_type": "code",
   "execution_count": 3,
   "id": "functioning-dynamics",
   "metadata": {},
   "outputs": [
    {
     "name": "stdout",
     "output_type": "stream",
     "text": [
      "My favourite number is: 25\n"
     ]
    }
   ],
   "source": [
    "my_favourite_number_text = \"My favourite number is:\"\n",
    "my_favourite_number = 25\n",
    "print(my_favourite_number_text, my_favourite_number)"
   ]
  },
  {
   "cell_type": "markdown",
   "id": "minimal-doctor",
   "metadata": {},
   "source": [
    "How might you modify the above code so that it displays the following:\n",
    "    \n",
    "    25 is my favourite number.\n"
   ]
  },
  {
   "cell_type": "markdown",
   "id": "objective-tragedy",
   "metadata": {},
   "source": [
    "```{admonition} Click the button to reveal answer\n",
    ":class: dropdown \n",
    "    my_favourite_number = 25\n",
    "    my_favourite_number_text = \"is my favourite number.\"\n",
    "    print(my_favourite_number, my_favourite_number_text)\n",
    "```"
   ]
  },
  {
   "cell_type": "markdown",
   "id": "worldwide-cornell",
   "metadata": {},
   "source": [
    "You might have come up with a slightly different solution. It's important to remember there are often several (sometimes many) ways to achieve the same task - even in quite simple cases.\n",
    "\n",
    "Let’s now assign a different number to the `my_favourite_number` variable and change the `my_favourite_number_text` back to what it was originally."
   ]
  },
  {
   "cell_type": "code",
   "execution_count": 4,
   "id": "elegant-music",
   "metadata": {},
   "outputs": [
    {
     "name": "stdout",
     "output_type": "stream",
     "text": [
      "My favourite number is: 16\n"
     ]
    }
   ],
   "source": [
    "my_favourite_number = 16\n",
    "my_favourite_number_text = \"My favourite number is:\"\n",
    "print(my_favourite_number_text, my_favourite_number)"
   ]
  },
  {
   "cell_type": "markdown",
   "id": "essential-damages",
   "metadata": {},
   "source": [
    "## Lists\n",
    "\n",
    "Lists can be assigned to variables. In Python lists are indicated by square brackets, `[` and `]`, and contain elements - often of the same type - for example, lists of integers, strings etc. Lists can also contain a mix of elements of different types (but you may want to avoid this). The next bit of code creates a list called `my_numbers` that contains 4 integer elements. Remember, in contrast to R, Python uses zero-position indexing. So the first element in the list is at position 0, the second at position 1 etc. We can index an element in the list using square brackets. Let's index the second element..."
   ]
  },
  {
   "cell_type": "code",
   "execution_count": 5,
   "id": "faced-adelaide",
   "metadata": {},
   "outputs": [
    {
     "data": {
      "text/plain": [
       "20"
      ]
     },
     "execution_count": 5,
     "metadata": {},
     "output_type": "execute_result"
    }
   ],
   "source": [
    "my_numbers = [10, 20, 30, 40]\n",
    "my_numbers[1]"
   ]
  },
  {
   "cell_type": "markdown",
   "id": "described-india",
   "metadata": {},
   "source": [
    "The next list is a list of strings. How would you go about indexing the fourth element?"
   ]
  },
  {
   "cell_type": "code",
   "execution_count": 6,
   "id": "falling-religion",
   "metadata": {},
   "outputs": [],
   "source": [
    "my_names = [\"Andrew\", \"Suzanne\", \"Eliza\", \"Seb\"]"
   ]
  },
  {
   "cell_type": "markdown",
   "id": "killing-doubt",
   "metadata": {},
   "source": [
    "```{admonition} Click the button to reveal answer\n",
    ":class: dropdown \n",
    "    my_names[3]\n",
    "```"
   ]
  },
  {
   "cell_type": "markdown",
   "id": "local-pontiac",
   "metadata": {},
   "source": [
    "Elements in lists can be changed (i.e., lists are mutable):"
   ]
  },
  {
   "cell_type": "code",
   "execution_count": 7,
   "id": "basic-worker",
   "metadata": {},
   "outputs": [
    {
     "name": "stdout",
     "output_type": "stream",
     "text": [
      "['Iggy Pop', 'Suzanne', 'Eliza', 'Seb']\n"
     ]
    }
   ],
   "source": [
    "my_names[0] = \"Iggy Pop\"\n",
    "print(my_names)"
   ]
  },
  {
   "cell_type": "markdown",
   "id": "quarterly-bradford",
   "metadata": {},
   "source": [
    "List can be sliced using `:` The following will slice from the third element to the end of the list."
   ]
  },
  {
   "cell_type": "code",
   "execution_count": 8,
   "id": "tribal-eclipse",
   "metadata": {},
   "outputs": [
    {
     "data": {
      "text/plain": [
       "['Eliza', 'Seb']"
      ]
     },
     "execution_count": 8,
     "metadata": {},
     "output_type": "execute_result"
    }
   ],
   "source": [
    "my_names[2:]"
   ]
  },
  {
   "cell_type": "markdown",
   "id": "foster-cookie",
   "metadata": {},
   "source": [
    "While the line below will slice from the start of the list up to (but *excluding*) the third element."
   ]
  },
  {
   "cell_type": "code",
   "execution_count": 9,
   "id": "lyric-regular",
   "metadata": {},
   "outputs": [
    {
     "data": {
      "text/plain": [
       "['Iggy Pop', 'Suzanne']"
      ]
     },
     "execution_count": 9,
     "metadata": {},
     "output_type": "execute_result"
    }
   ],
   "source": [
    "my_names[:2]"
   ]
  },
  {
   "cell_type": "markdown",
   "id": "boxed-mixture",
   "metadata": {},
   "source": [
    "We can also specify the start and stop points of the slicing as follows."
   ]
  },
  {
   "cell_type": "markdown",
   "id": "novel-extra",
   "metadata": {},
   "source": [
    "my_names[1:3]"
   ]
  },
  {
   "cell_type": "markdown",
   "id": "charged-split",
   "metadata": {},
   "source": [
    "## Tuples\n",
    "\n",
    "Tuples are like lists, except they are *immutable* - in other words, their contents cannot be changed later. While lists are created using square brackets, tuples are created using round brackets. But like lists, you use square brackets to reference elements in a tuple."
   ]
  },
  {
   "cell_type": "code",
   "execution_count": 10,
   "id": "confident-connection",
   "metadata": {},
   "outputs": [
    {
     "data": {
      "text/plain": [
       "40"
      ]
     },
     "execution_count": 10,
     "metadata": {},
     "output_type": "execute_result"
    }
   ],
   "source": [
    "my_tuple = (10, 20, 30, 40)\n",
    "my_tuple[3]"
   ]
  },
  {
   "cell_type": "markdown",
   "id": "laughing-stress",
   "metadata": {},
   "source": [
    "If you try to change an element in a tuple, an error will be generated."
   ]
  },
  {
   "cell_type": "code",
   "execution_count": 11,
   "id": "invalid-cursor",
   "metadata": {},
   "outputs": [
    {
     "ename": "TypeError",
     "evalue": "'tuple' object does not support item assignment",
     "output_type": "error",
     "traceback": [
      "\u001b[0;31m---------------------------------------------------------------------------\u001b[0m",
      "\u001b[0;31mTypeError\u001b[0m                                 Traceback (most recent call last)",
      "\u001b[0;32m<ipython-input-11-ff0b7a9231b8>\u001b[0m in \u001b[0;36m<module>\u001b[0;34m\u001b[0m\n\u001b[0;32m----> 1\u001b[0;31m \u001b[0mmy_tuple\u001b[0m\u001b[0;34m[\u001b[0m\u001b[0;36m3\u001b[0m\u001b[0;34m]\u001b[0m \u001b[0;34m=\u001b[0m \u001b[0;36m5\u001b[0m\u001b[0;34m\u001b[0m\u001b[0;34m\u001b[0m\u001b[0m\n\u001b[0m",
      "\u001b[0;31mTypeError\u001b[0m: 'tuple' object does not support item assignment"
     ]
    }
   ],
   "source": [
    "my_tuple[3] = 5"
   ]
  },
  {
   "cell_type": "markdown",
   "id": "neither-fifteen",
   "metadata": {},
   "source": [
    "Tuples can be sliced too. The following will slice from the start up to (but excluding) the fourth element."
   ]
  },
  {
   "cell_type": "code",
   "execution_count": 24,
   "id": "bridal-static",
   "metadata": {},
   "outputs": [
    {
     "data": {
      "text/plain": [
       "(20, 30)"
      ]
     },
     "execution_count": 24,
     "metadata": {},
     "output_type": "execute_result"
    }
   ],
   "source": [
    "my_tuple[:3]"
   ]
  },
  {
   "cell_type": "markdown",
   "id": "positive-jason",
   "metadata": {},
   "source": [
    "How would you slice `my_tuple` so that it contains only the second and third elements?"
   ]
  },
  {
   "cell_type": "markdown",
   "id": "optional-whole",
   "metadata": {},
   "source": [
    "```{admonition} Click the button to reveal answer\n",
    ":class: dropdown \n",
    "    my_tuple[1:3]\n",
    "```"
   ]
  },
  {
   "cell_type": "markdown",
   "id": "studied-marina",
   "metadata": {},
   "source": [
    "If you wanted to, you could map the above output onto a new variable called `my_slided_tuple` and use the logical operator `==` (more on this later) to check that they are the same."
   ]
  },
  {
   "cell_type": "code",
   "execution_count": 28,
   "id": "arabic-philadelphia",
   "metadata": {},
   "outputs": [
    {
     "data": {
      "text/plain": [
       "True"
      ]
     },
     "execution_count": 28,
     "metadata": {},
     "output_type": "execute_result"
    }
   ],
   "source": [
    "my_sliced_tuple = my_tuple[:3]\n",
    "my_sliced_tuple == my_tuple[:3]"
   ]
  },
  {
   "cell_type": "markdown",
   "id": "finished-remains",
   "metadata": {},
   "source": [
    "## Arrays\n",
    "\n",
    "An array is a data structure consisting of a collection of elements, each identified by at least one array index (or key). Arrays are core data structures in data science and machine learning. For example, you can store images as 2-dimensional arrays representing pixel brightness across the area of the image.\n",
    "\n",
    "Data frames and tibbles in R are types of 2-dimensional arrays - data stored in rectangular format with rows and columns. Arrays don’t have to just be in two dimensions but it can be tricky imagining more dimensions...\n",
    "\n",
    "NumPy Arrays are better than inbuilt Python Arrays in that they are more efficient as the arrays grow larger in size. We'll spend more time on NumPy arrays in the next workshop but let's just take a brief look.\n",
    "\n",
    "In the code below we’re importing the numpy package as np (this is the conventional alias for this package). We then set our randomisation seed to ensure reproduciblity. Remember, computers can't generate true random numbers so do it algorithmically. We can fix the start of this generation procedure to ensure that if we re-run our code we get the same random numbers. We then create an array of random integers from 0 (inclusively) and 10 (exclusively) that has 3 rows and 4 columns. We use the Numpy routine `random` and the operation `randint` to generate this array. We need to specify the low and high values of the range we're sampling from, and the shape of the array (number of rows by number of columns) we are wanting to generate."
   ]
  },
  {
   "cell_type": "code",
   "execution_count": 29,
   "id": "numeric-evans",
   "metadata": {},
   "outputs": [
    {
     "data": {
      "text/plain": [
       "array([[3, 6, 5, 4],\n",
       "       [8, 9, 1, 7],\n",
       "       [9, 6, 8, 0]])"
      ]
     },
     "execution_count": 29,
     "metadata": {},
     "output_type": "execute_result"
    }
   ],
   "source": [
    "import numpy as np\n",
    "\n",
    "np.random.seed(1234)\n",
    "my_array = np.random.randint(low = 0, high = 10, size = (3, 4))\n",
    "my_array\n"
   ]
  },
  {
   "cell_type": "markdown",
   "id": "surprised-halloween",
   "metadata": {},
   "source": [
    "We can then check the shape of the array using `.shape` "
   ]
  },
  {
   "cell_type": "code",
   "execution_count": 31,
   "id": "loaded-cylinder",
   "metadata": {},
   "outputs": [
    {
     "data": {
      "text/plain": [
       "(3, 4)"
      ]
     },
     "execution_count": 31,
     "metadata": {},
     "output_type": "execute_result"
    }
   ],
   "source": [
    "my_array.shape"
   ]
  },
  {
   "cell_type": "code",
   "execution_count": null,
   "id": "entertaining-weapon",
   "metadata": {},
   "outputs": [],
   "source": []
  }
 ],
 "metadata": {
  "kernelspec": {
   "display_name": "Python (data_science)",
   "language": "python",
   "name": "data_science"
  },
  "language_info": {
   "codemirror_mode": {
    "name": "ipython",
    "version": 3
   },
   "file_extension": ".py",
   "mimetype": "text/x-python",
   "name": "python",
   "nbconvert_exporter": "python",
   "pygments_lexer": "ipython3",
   "version": "3.8.5"
  }
 },
 "nbformat": 4,
 "nbformat_minor": 5
}