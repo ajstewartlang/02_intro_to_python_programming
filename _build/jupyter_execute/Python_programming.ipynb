{
 "cells": [
  {
   "cell_type": "markdown",
   "id": "convertible-israeli",
   "metadata": {},
   "source": [
    "# Introduction to Python Programming"
   ]
  },
  {
   "cell_type": "code",
   "execution_count": 1,
   "id": "biological-program",
   "metadata": {
    "tags": [
     "hide-input"
    ]
   },
   "outputs": [
    {
     "data": {
      "text/html": [
       "<div style=\"text-align: center\">\n",
       "<iframe width=\"560\" height=\"315\" src=\"https://youtube.com/embed/HjF98JryayQ\" frameborder=\"0\" allowfullscreen></iframe>\n",
       "\n",
       "</div>\n"
      ],
      "text/plain": [
       "<IPython.core.display.HTML object>"
      ]
     },
     "metadata": {},
     "output_type": "display_data"
    }
   ],
   "source": [
    "%%HTML\n",
    "<div style=\"text-align: center\">\n",
    "<iframe width=\"560\" height=\"315\" src=\"https://youtube.com/embed/HjF98JryayQ\" frameborder=\"0\" allowfullscreen></iframe>\n",
    "\n",
    "</div>"
   ]
  },
  {
   "cell_type": "markdown",
   "id": "eleven-hardware",
   "metadata": {},
   "source": [
    "## Data Types and Variable Assignment\n",
    "\n",
    "This is a Jupyter Notebook. It allows use to write text in Markdown format (as we have in this block), and also run Python code and see the output. If you have completed the previous workshop, you should be able to launch a Jupyter Notebook on your own machine. Make sure you have a conda environment activated (type `conda activate` in your terminal if you don't). Set up a new Notecook by typing `jupyter notebook` in a terminal window. This should launch Jupyter Notebooks running in your browser. \n",
    "\n",
    "    conda activate\n",
    "    jupyter notebook\n",
    "\n",
    "Start a new Python script in your `Python (data_science)` environment.\n",
    "\n",
    "![](images/new_notebook.png)\n",
    "\n",
    "Some of the most common data types in Python are integers (`int`) and floating point (`float`) for representing numbers, and strings (`str`) for representing text. We can assign values to variables - the data type is dynamically inferred by Python (in contrast to other languages such as C++ where they have to be explicitly declared). You can check what type a variable by using `type()`.\n",
    "\n",
    "Try running the following two lines of Python code in your Jupyter Notebook."
   ]
  },
  {
   "cell_type": "code",
   "execution_count": 2,
   "id": "analyzed-philip",
   "metadata": {},
   "outputs": [
    {
     "name": "stdout",
     "output_type": "stream",
     "text": [
      "<class 'str'>\n"
     ]
    }
   ],
   "source": [
    "my_name = \"Andrew\"\n",
    "print(type(my_name))"
   ]
  },
  {
   "cell_type": "markdown",
   "id": "legal-nowhere",
   "metadata": {},
   "source": [
    "In the output, you should see that the variable `my_name` has been identified as type `str` as it is contains text.\n",
    "\n",
    "Assigning values to variables is a key component in scripting/coding. You can use variables to store values that you need to be able to access later, and variables can be re-assigned as your script progresses (maybe to store temporary values). You can print the content of a variable using the `print(variable_name)` function in Python. In the code below, we create two variables. The print() function can take multiple arguments so we can print the values of the two variables with the line `print(my_favourite_number_text, my_favourite_number)`.\n"
   ]
  },
  {
   "cell_type": "code",
   "execution_count": 3,
   "id": "deluxe-houston",
   "metadata": {},
   "outputs": [
    {
     "name": "stdout",
     "output_type": "stream",
     "text": [
      "My favourite number is: 25\n"
     ]
    }
   ],
   "source": [
    "my_favourite_number_text = \"My favourite number is:\"\n",
    "my_favourite_number = 25\n",
    "print(my_favourite_number_text, my_favourite_number)"
   ]
  },
  {
   "cell_type": "markdown",
   "id": "strong-alexandria",
   "metadata": {},
   "source": [
    "How might you modify the above code so that it displays the following:\n",
    "    \n",
    "    25 is my favourite number.\n",
    "    \n",
    "Have a think and then click below for one way to do this."
   ]
  },
  {
   "cell_type": "markdown",
   "id": "fewer-psychology",
   "metadata": {},
   "source": [
    "```{admonition} Click the button to reveal answer\n",
    ":class: dropdown \n",
    "    my_favourite_number = 25\n",
    "    my_favourite_number_text = \"is my favourite number.\"\n",
    "    print(my_favourite_number, my_favourite_number_text)\n",
    "```"
   ]
  },
  {
   "cell_type": "markdown",
   "id": "powered-mobility",
   "metadata": {},
   "source": [
    "You might have come up with a slightly different solution. It's important to remember there are often several (sometimes many) ways to achieve the same task - even in quite simple cases."
   ]
  }
 ],
 "metadata": {
  "kernelspec": {
   "display_name": "Python (data_science)",
   "language": "python",
   "name": "data_science"
  },
  "language_info": {
   "codemirror_mode": {
    "name": "ipython",
    "version": 3
   },
   "file_extension": ".py",
   "mimetype": "text/x-python",
   "name": "python",
   "nbconvert_exporter": "python",
   "pygments_lexer": "ipython3",
   "version": "3.8.8"
  }
 },
 "nbformat": 4,
 "nbformat_minor": 5
}