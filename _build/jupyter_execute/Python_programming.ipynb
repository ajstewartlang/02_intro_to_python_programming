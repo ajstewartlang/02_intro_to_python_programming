{
 "cells": [
  {
   "cell_type": "markdown",
   "id": "dried-scottish",
   "metadata": {},
   "source": [
    "# Introduction to Python Programming"
   ]
  },
  {
   "cell_type": "markdown",
   "id": "instructional-bride",
   "metadata": {},
   "source": [
    "In this second workshop we'll take our first look at programming in Python. We'll cover the key data types, as well as functions, and control flow statements. "
   ]
  },
  {
   "cell_type": "code",
   "execution_count": 1,
   "id": "induced-premiere",
   "metadata": {
    "tags": [
     "hide-input"
    ]
   },
   "outputs": [
    {
     "data": {
      "text/html": [
       "<div style=\"text-align: center\">\n",
       "<iframe width=\"560\" height=\"315\" src=\"https://youtube.com/embed/HjF98JryayQ\" frameborder=\"0\" allowfullscreen></iframe>\n",
       "\n",
       "</div>\n"
      ],
      "text/plain": [
       "<IPython.core.display.HTML object>"
      ]
     },
     "metadata": {},
     "output_type": "display_data"
    }
   ],
   "source": [
    "%%HTML\n",
    "<div style=\"text-align: center\">\n",
    "<iframe width=\"560\" height=\"315\" src=\"https://youtube.com/embed/HjF98JryayQ\" frameborder=\"0\" allowfullscreen></iframe>\n",
    "\n",
    "</div>"
   ]
  },
  {
   "cell_type": "markdown",
   "id": "valuable-makeup",
   "metadata": {},
   "source": [
    "## Slides\n",
    "\n",
    "You can view and download the slides in a variety of formats by clicking on the image below.\n",
    "\n",
    "<center>\n",
    "\n",
    "[![link_to_slides](images/intro_slides.png)](https://docs.google.com/presentation/d/1yWZ8Q_MD4RGkeqDTDukaS7T18oX08BmONcaLwZNAAKk/edit?usp=sharing)\n",
    "    \n",
    "</center>"
   ]
  },
  {
   "cell_type": "markdown",
   "id": "freelance-toner",
   "metadata": {},
   "source": [
    "## Data Types and Variable Assignment\n",
    "\n",
    "This is a Jupyter Notebook. It allows use to write text in Markdown format (as we have in this block), and also run Python code and see the output. If you have completed the previous workshop, you should be able to launch a Jupyter Notebook on your own machine. Make sure you have a conda environment activated (type `conda activate` in your terminal if you don't). Set up a new Notecook by typing `jupyter notebook` in a terminal window. This should launch Jupyter Notebooks running in your browser. \n",
    "\n",
    "    conda activate\n",
    "    jupyter notebook\n",
    "\n",
    "Start a new Python script in your `Python (data_science)` environment.\n",
    "\n",
    "![](images/new_notebook.png)\n",
    "\n",
    "Some of the most common data types in Python are integer (`int`) and floating point (`float`) for representing numbers, and strings (`str`) for representing text. We can assign values to variables - the data type is dynamically inferred by Python (in contrast to other languages such as C++ where they have to be explicitly declared). You can check what type a variable is by using `type()`.\n",
    "\n",
    "Try running the following two lines of Python code in your Jupyter Notebook."
   ]
  },
  {
   "cell_type": "code",
   "execution_count": 2,
   "id": "toxic-policy",
   "metadata": {},
   "outputs": [
    {
     "name": "stdout",
     "output_type": "stream",
     "text": [
      "<class 'str'>\n"
     ]
    }
   ],
   "source": [
    "my_name = \"Andrew\"\n",
    "print(type(my_name))"
   ]
  },
  {
   "cell_type": "markdown",
   "id": "dietary-dayton",
   "metadata": {},
   "source": [
    "In the output, you should see that the variable `my_name` has been identified as type `str` as it is contains text.\n",
    "\n",
    "Assigning values to variables is a key component in scripting/coding. You can use variables to store values that you need to be able to access later, and variables can be re-assigned as your script progresses (maybe you want to store temporary values in a variable). You can print the content of a variable using the `print(variable_name)` function in Python. In the code below, we create two variables. The `print` function can take multiple arguments so we can print the values of the two variables with the line `print(first_variable_name, second_variable_name)`.\n"
   ]
  },
  {
   "cell_type": "code",
   "execution_count": 3,
   "id": "appointed-outreach",
   "metadata": {},
   "outputs": [
    {
     "name": "stdout",
     "output_type": "stream",
     "text": [
      "My favourite number is: 25\n"
     ]
    }
   ],
   "source": [
    "my_favourite_number_text = \"My favourite number is:\"\n",
    "my_favourite_number = 25\n",
    "print(my_favourite_number_text, my_favourite_number)"
   ]
  },
  {
   "cell_type": "markdown",
   "id": "retired-headset",
   "metadata": {},
   "source": [
    "How might you modify the above code so that it displays the following:\n",
    "    \n",
    "    25 is my favourite number.\n"
   ]
  },
  {
   "cell_type": "markdown",
   "id": "manual-tracy",
   "metadata": {},
   "source": [
    "```{admonition} Click the button to reveal answer\n",
    ":class: dropdown \n",
    "    my_favourite_number = 25\n",
    "    my_favourite_number_text = \"is my favourite number.\"\n",
    "    print(my_favourite_number, my_favourite_number_text)\n",
    "```"
   ]
  },
  {
   "cell_type": "markdown",
   "id": "coral-ceremony",
   "metadata": {},
   "source": [
    "You might have come up with a slightly different solution. It's important to remember there are often several (sometimes many) ways to achieve the same task - even in quite simple cases.\n",
    "\n",
    "Let’s now assign a different number to the `my_favourite_number` variable and change the `my_favourite_number_text` back to what it was originally."
   ]
  },
  {
   "cell_type": "code",
   "execution_count": 4,
   "id": "automated-extraction",
   "metadata": {},
   "outputs": [
    {
     "name": "stdout",
     "output_type": "stream",
     "text": [
      "My favourite number is: 16\n"
     ]
    }
   ],
   "source": [
    "my_favourite_number = 16\n",
    "my_favourite_number_text = \"My favourite number is:\"\n",
    "print(my_favourite_number_text, my_favourite_number)"
   ]
  },
  {
   "cell_type": "markdown",
   "id": "younger-representative",
   "metadata": {},
   "source": [
    "## Lists\n",
    "\n",
    "Lists can be assigned to variables. In Python lists are indicated by square brackets, `[` and `]`, and contain elements - often of the same type - for example, lists of integers, strings etc. Lists can also contain a mix of elements of different types (but you may want to avoid this). The next bit of code creates a list called `my_numbers` that contains 4 integer elements. Remember, in contrast to R, Python uses zero-position indexing. So the first element in the list is at position 0, the second at position 1 etc. We can index an element in the list using square brackets. Let's index the second element..."
   ]
  },
  {
   "cell_type": "code",
   "execution_count": 5,
   "id": "extraordinary-hunter",
   "metadata": {},
   "outputs": [
    {
     "data": {
      "text/plain": [
       "20"
      ]
     },
     "execution_count": 5,
     "metadata": {},
     "output_type": "execute_result"
    }
   ],
   "source": [
    "my_numbers = [10, 20, 30, 40]\n",
    "my_numbers[1]"
   ]
  },
  {
   "cell_type": "markdown",
   "id": "coated-charter",
   "metadata": {},
   "source": [
    "The next list is a list of strings. How would you go about indexing the fourth element?"
   ]
  },
  {
   "cell_type": "code",
   "execution_count": 6,
   "id": "spread-acrylic",
   "metadata": {},
   "outputs": [],
   "source": [
    "my_names = [\"Andrew\", \"Suzanne\", \"Eliza\", \"Seb\"]"
   ]
  },
  {
   "cell_type": "markdown",
   "id": "hispanic-example",
   "metadata": {},
   "source": [
    "```{admonition} Click the button to reveal answer\n",
    ":class: dropdown \n",
    "    my_names[3]\n",
    "```"
   ]
  },
  {
   "cell_type": "markdown",
   "id": "celtic-patrick",
   "metadata": {},
   "source": [
    "Elements in lists can be changed (i.e., lists are mutable):"
   ]
  },
  {
   "cell_type": "code",
   "execution_count": 7,
   "id": "intelligent-penguin",
   "metadata": {},
   "outputs": [
    {
     "name": "stdout",
     "output_type": "stream",
     "text": [
      "['Iggy Pop', 'Suzanne', 'Eliza', 'Seb']\n"
     ]
    }
   ],
   "source": [
    "my_names[0] = \"Iggy Pop\"\n",
    "print(my_names)"
   ]
  },
  {
   "cell_type": "markdown",
   "id": "governmental-mayor",
   "metadata": {},
   "source": [
    "List can be sliced using `:` The following will slice from the third element to the end of the list."
   ]
  },
  {
   "cell_type": "code",
   "execution_count": 8,
   "id": "fantastic-french",
   "metadata": {},
   "outputs": [
    {
     "data": {
      "text/plain": [
       "['Eliza', 'Seb']"
      ]
     },
     "execution_count": 8,
     "metadata": {},
     "output_type": "execute_result"
    }
   ],
   "source": [
    "my_names[2:]"
   ]
  },
  {
   "cell_type": "markdown",
   "id": "automated-nebraska",
   "metadata": {},
   "source": [
    "While the line below will slice from the start of the list up to (but *excluding*) the third element."
   ]
  },
  {
   "cell_type": "code",
   "execution_count": 9,
   "id": "successful-sperm",
   "metadata": {},
   "outputs": [
    {
     "data": {
      "text/plain": [
       "['Iggy Pop', 'Suzanne']"
      ]
     },
     "execution_count": 9,
     "metadata": {},
     "output_type": "execute_result"
    }
   ],
   "source": [
    "my_names[:2]"
   ]
  },
  {
   "cell_type": "markdown",
   "id": "bearing-forest",
   "metadata": {},
   "source": [
    "We can also specify the start and stop points of the slicing as follows."
   ]
  },
  {
   "cell_type": "code",
   "execution_count": 10,
   "id": "timely-behalf",
   "metadata": {},
   "outputs": [
    {
     "data": {
      "text/plain": [
       "['Suzanne', 'Eliza']"
      ]
     },
     "execution_count": 10,
     "metadata": {},
     "output_type": "execute_result"
    }
   ],
   "source": [
    "my_names[1:3]"
   ]
  },
  {
   "cell_type": "markdown",
   "id": "intense-spirit",
   "metadata": {},
   "source": [
    "## Tuples\n",
    "\n",
    "Tuples are like lists, except they are *immutable* - in other words, their contents cannot be changed later. While lists are created using square brackets, tuples are created using round brackets. But like lists, you use square brackets to reference elements in a tuple."
   ]
  },
  {
   "cell_type": "code",
   "execution_count": 11,
   "id": "integrated-turkey",
   "metadata": {},
   "outputs": [
    {
     "data": {
      "text/plain": [
       "40"
      ]
     },
     "execution_count": 11,
     "metadata": {},
     "output_type": "execute_result"
    }
   ],
   "source": [
    "my_tuple = (10, 20, 30, 40)\n",
    "my_tuple[3]"
   ]
  },
  {
   "cell_type": "markdown",
   "id": "cordless-listing",
   "metadata": {},
   "source": [
    "If you try to change an element in a tuple, an error will be generated."
   ]
  },
  {
   "cell_type": "code",
   "execution_count": 12,
   "id": "attended-brick",
   "metadata": {},
   "outputs": [
    {
     "ename": "TypeError",
     "evalue": "'tuple' object does not support item assignment",
     "output_type": "error",
     "traceback": [
      "\u001b[0;31m---------------------------------------------------------------------------\u001b[0m",
      "\u001b[0;31mTypeError\u001b[0m                                 Traceback (most recent call last)",
      "\u001b[0;32m<ipython-input-12-ff0b7a9231b8>\u001b[0m in \u001b[0;36m<module>\u001b[0;34m\u001b[0m\n\u001b[0;32m----> 1\u001b[0;31m \u001b[0mmy_tuple\u001b[0m\u001b[0;34m[\u001b[0m\u001b[0;36m3\u001b[0m\u001b[0;34m]\u001b[0m \u001b[0;34m=\u001b[0m \u001b[0;36m5\u001b[0m\u001b[0;34m\u001b[0m\u001b[0;34m\u001b[0m\u001b[0m\n\u001b[0m",
      "\u001b[0;31mTypeError\u001b[0m: 'tuple' object does not support item assignment"
     ]
    }
   ],
   "source": [
    "my_tuple[3] = 5"
   ]
  },
  {
   "cell_type": "markdown",
   "id": "labeled-clark",
   "metadata": {},
   "source": [
    "Tuples can be sliced too. The following will slice from the start up to (but excluding) the fourth element."
   ]
  },
  {
   "cell_type": "code",
   "execution_count": 24,
   "id": "judicial-population",
   "metadata": {},
   "outputs": [
    {
     "data": {
      "text/plain": [
       "(20, 30)"
      ]
     },
     "execution_count": 24,
     "metadata": {},
     "output_type": "execute_result"
    }
   ],
   "source": [
    "my_tuple[:3]"
   ]
  },
  {
   "cell_type": "markdown",
   "id": "preliminary-soundtrack",
   "metadata": {},
   "source": [
    "How would you slice `my_tuple` so that it contains only the second and third elements?"
   ]
  },
  {
   "cell_type": "markdown",
   "id": "ranging-nelson",
   "metadata": {},
   "source": [
    "```{admonition} Click the button to reveal answer\n",
    ":class: dropdown \n",
    "    my_tuple[1:3]\n",
    "```"
   ]
  },
  {
   "cell_type": "markdown",
   "id": "micro-cherry",
   "metadata": {},
   "source": [
    "If you wanted to, you could map the above output onto a new variable called `my_slided_tuple` and use the logical operator `==` (more on this later) to check that they are the same."
   ]
  },
  {
   "cell_type": "code",
   "execution_count": 28,
   "id": "studied-donor",
   "metadata": {},
   "outputs": [
    {
     "data": {
      "text/plain": [
       "True"
      ]
     },
     "execution_count": 28,
     "metadata": {},
     "output_type": "execute_result"
    }
   ],
   "source": [
    "my_sliced_tuple = my_tuple[:3]\n",
    "my_sliced_tuple == my_tuple[:3]"
   ]
  },
  {
   "cell_type": "markdown",
   "id": "primary-miracle",
   "metadata": {},
   "source": [
    "## Arrays\n",
    "\n",
    "An array is a data structure consisting of a collection of elements, each identified by at least one array index (or key). Arrays are core data structures in data science and machine learning. For example, you can store images as 2-dimensional arrays representing pixel brightness across the area of the image.\n",
    "\n",
    "Data frames and tibbles in R are types of 2-dimensional arrays - data stored in rectangular format with rows and columns. Arrays don’t have to just be in two dimensions but it can be tricky imagining more dimensions...\n",
    "\n",
    "NumPy Arrays are better than inbuilt Python Arrays in that they are more efficient as the arrays grow larger in size. We'll spend more time on NumPy arrays in the next workshop but let's just take a brief look.\n",
    "\n",
    "In the code below we’re importing the `numpy` package as `np` (this is the conventional alias for this package). We then set our randomisation seed to ensure reproduciblity. Remember, computers can't generate true random numbers so use an algorithm. We can fix the start of this generation procedure to ensure that if we re-run our code we get the same random numbers. We then create an array of random integers from 0 (inclusively) and 10 (exclusively) that has 3 rows and 4 columns. We use the Numpy routine `random` and the operation `randint` to generate this array. We need to specify the low and high values of the range we're sampling from, and the shape of the array (number of rows by number of columns) we are wanting to generate."
   ]
  },
  {
   "cell_type": "code",
   "execution_count": 29,
   "id": "sustainable-cement",
   "metadata": {},
   "outputs": [
    {
     "data": {
      "text/plain": [
       "array([[3, 6, 5, 4],\n",
       "       [8, 9, 1, 7],\n",
       "       [9, 6, 8, 0]])"
      ]
     },
     "execution_count": 29,
     "metadata": {},
     "output_type": "execute_result"
    }
   ],
   "source": [
    "import numpy as np\n",
    "\n",
    "np.random.seed(1234)\n",
    "my_array = np.random.randint(low = 0, high = 10, size = (3, 4))\n",
    "my_array\n"
   ]
  },
  {
   "cell_type": "markdown",
   "id": "painted-orange",
   "metadata": {},
   "source": [
    "We can then check the shape of the array using `.shape` "
   ]
  },
  {
   "cell_type": "code",
   "execution_count": 31,
   "id": "vocal-habitat",
   "metadata": {},
   "outputs": [
    {
     "data": {
      "text/plain": [
       "(3, 4)"
      ]
     },
     "execution_count": 31,
     "metadata": {},
     "output_type": "execute_result"
    }
   ],
   "source": [
    "my_array.shape"
   ]
  },
  {
   "cell_type": "markdown",
   "id": "together-james",
   "metadata": {},
   "source": [
    "## Getting Help\n",
    "\n",
    "In your Jupyter Notebook you can type `help()` and put in the brackets the name of the module and function you want help with. Most help files are incredibly useful and will clearly describe what a function does, what it takes as its input parameters, and what it returns in its output. Below is what I get when I ask for help with the `shape` operation in `numpy`."
   ]
  },
  {
   "cell_type": "code",
   "execution_count": 33,
   "id": "acquired-module",
   "metadata": {},
   "outputs": [
    {
     "name": "stdout",
     "output_type": "stream",
     "text": [
      "Help on function shape in module numpy:\n",
      "\n",
      "shape(a)\n",
      "    Return the shape of an array.\n",
      "    \n",
      "    Parameters\n",
      "    ----------\n",
      "    a : array_like\n",
      "        Input array.\n",
      "    \n",
      "    Returns\n",
      "    -------\n",
      "    shape : tuple of ints\n",
      "        The elements of the shape tuple give the lengths of the\n",
      "        corresponding array dimensions.\n",
      "    \n",
      "    See Also\n",
      "    --------\n",
      "    alen\n",
      "    ndarray.shape : Equivalent array method.\n",
      "    \n",
      "    Examples\n",
      "    --------\n",
      "    >>> np.shape(np.eye(3))\n",
      "    (3, 3)\n",
      "    >>> np.shape([[1, 2]])\n",
      "    (1, 2)\n",
      "    >>> np.shape([0])\n",
      "    (1,)\n",
      "    >>> np.shape(0)\n",
      "    ()\n",
      "    \n",
      "    >>> a = np.array([(1, 2), (3, 4)], dtype=[('x', 'i4'), ('y', 'i4')])\n",
      "    >>> np.shape(a)\n",
      "    (2,)\n",
      "    >>> a.shape\n",
      "    (2,)\n",
      "\n"
     ]
    }
   ],
   "source": [
    "help(np.shape)"
   ]
  },
  {
   "cell_type": "markdown",
   "id": "asian-height",
   "metadata": {},
   "source": [
    "## Variable Assignments are References (not Copies)\n",
    "\n",
    "Assignment in Python involves creating bindings between a target and an object in computer memory - not just simple copying - this can easily trip you up if you assume that assignment creates a new **copy** of of the original object."
   ]
  },
  {
   "cell_type": "code",
   "execution_count": 36,
   "id": "decimal-gazette",
   "metadata": {},
   "outputs": [
    {
     "name": "stdout",
     "output_type": "stream",
     "text": [
      "['Andrew', 'Suzanne', 'Eliza', 'Seb']\n"
     ]
    }
   ],
   "source": [
    "my_old_names = ['Andrew', 'Suzanne', 'Eliza', 'Seb']\n",
    "my_new_names = my_old_names\n",
    "\n",
    "print(my_new_names)"
   ]
  },
  {
   "cell_type": "code",
   "execution_count": 38,
   "id": "danish-motor",
   "metadata": {},
   "outputs": [
    {
     "name": "stdout",
     "output_type": "stream",
     "text": [
      "['this is surprising', 'Suzanne', 'Eliza', 'Seb']\n"
     ]
    }
   ],
   "source": [
    "my_old_names[0] = 'this is surprising'\n",
    "\n",
    "print(my_new_names)"
   ]
  },
  {
   "cell_type": "markdown",
   "id": "union-financing",
   "metadata": {},
   "source": [
    "## Functions\n",
    "\n",
    "Python has a number of built-in functions such as print(), abs(), bin() etc. You can see the full list [here](https://docs.python.org/3/library/functions.html). Generally, functions take an input, do something with the input, and then output the result. You can use the `help()` function to get help on other functions. \n"
   ]
  },
  {
   "cell_type": "code",
   "execution_count": 41,
   "id": "cultural-blame",
   "metadata": {},
   "outputs": [
    {
     "name": "stdout",
     "output_type": "stream",
     "text": [
      "Help on built-in function print in module builtins:\n",
      "\n",
      "print(...)\n",
      "    print(value, ..., sep=' ', end='\\n', file=sys.stdout, flush=False)\n",
      "    \n",
      "    Prints the values to a stream, or to sys.stdout by default.\n",
      "    Optional keyword arguments:\n",
      "    file:  a file-like object (stream); defaults to the current sys.stdout.\n",
      "    sep:   string inserted between values, default a space.\n",
      "    end:   string appended after the last value, default a newline.\n",
      "    flush: whether to forcibly flush the stream.\n",
      "\n"
     ]
    }
   ],
   "source": [
    "help(print)"
   ]
  },
  {
   "cell_type": "markdown",
   "id": "documented-difference",
   "metadata": {},
   "source": [
    "## User-Defined Functions\n",
    "\n",
    "If you find yourself writing the same chunk of code again and again, you might want to turn it into a function. For example, imagine I want to display someone’s BMI on the basis of knowing their height (in metres) and mass (in kg). The formula for BMI is: BMI = kg/m2. Let’s write a function that takes as its input someone’s weight and height, and then returns their BMI. We use `def` to define our function that we're calling `bmi`. It takes two parameters, `weight` and `height`. Inside the body of the function it creates a new variable called `bmi_value` which is `weight` divided by `height` squared. The function then returns this value.\n",
    "\n",
    "We can then call the function to work out the bmi of someone with a weight of 87 kgs, and a height of 1.8 metres with with `bmi(87, 1.8)`.\n",
    "\n",
    "Note that in the code below we are using indentation for the body of the function. Indentation in Python is important and is meaningful (i.e., it's not an aesthetic decision). Indentation is used to indicate a block of code. The convention is to indent each line of a block by 4 spaces. "
   ]
  },
  {
   "cell_type": "code",
   "execution_count": 43,
   "id": "consecutive-indianapolis",
   "metadata": {},
   "outputs": [
    {
     "data": {
      "text/plain": [
       "26.85185185185185"
      ]
     },
     "execution_count": 43,
     "metadata": {},
     "output_type": "execute_result"
    }
   ],
   "source": [
    "def bmi(weight, height):\n",
    "    bmi_value = weight/(height*height)\n",
    "    return bmi_value\n",
    "\n",
    "bmi(87, 1.8)"
   ]
  },
  {
   "cell_type": "markdown",
   "id": "ready-master",
   "metadata": {},
   "source": [
    "## Control Flow Statements - For Loops\n",
    "\n",
    "We can run the same command or chunk of code any number of times by placing it within a for loop. In the following, we print the phrase `“Hello world!”` five times. In Python, the code block within the loop that is to be repeated needs to indented."
   ]
  },
  {
   "cell_type": "code",
   "execution_count": 44,
   "id": "serial-conviction",
   "metadata": {},
   "outputs": [
    {
     "name": "stdout",
     "output_type": "stream",
     "text": [
      "Hello world!\n",
      "Hello world!\n",
      "Hello world!\n",
      "Hello world!\n",
      "Hello world!\n"
     ]
    }
   ],
   "source": [
    "for i in range(0, 5):\n",
    "    print(\"Hello world!\")"
   ]
  },
  {
   "cell_type": "markdown",
   "id": "electrical-compiler",
   "metadata": {},
   "source": [
    "We can also iterate over elements in an array using a for loop. In the following example, we iterate through the elements in our list and print that element."
   ]
  },
  {
   "cell_type": "code",
   "execution_count": 46,
   "id": "sophisticated-taiwan",
   "metadata": {},
   "outputs": [
    {
     "name": "stdout",
     "output_type": "stream",
     "text": [
      "Andrew\n",
      "Suzanne\n",
      "Eliza\n",
      "Seb\n"
     ]
    }
   ],
   "source": [
    "my_names = ['Andrew', 'Suzanne', 'Eliza', 'Seb']\n",
    "\n",
    "for element in my_names:\n",
    "    print(element)"
   ]
  },
  {
   "cell_type": "markdown",
   "id": "occupied-absence",
   "metadata": {},
   "source": [
    "### Iterating Over an Array\n",
    "\n",
    "In the same way we can iterate over lists, we can iterate over arrays row-by-row.  Let’s create a 2-dimensional array called `vital_stats` with the weights and heights of three individuals. The first row of the array will be their weights, and the second row their heights."
   ]
  },
  {
   "cell_type": "code",
   "execution_count": 58,
   "id": "micro-rating",
   "metadata": {},
   "outputs": [
    {
     "name": "stdout",
     "output_type": "stream",
     "text": [
      "[['80' '60' '90']\n",
      " ['1.8' '1.65' '1.75']\n",
      " ['Iggy' 'David' 'Lou']]\n"
     ]
    }
   ],
   "source": [
    "weights = np.array([80, 60, 90])\n",
    "heights = np.array([1.8, 1.65, 1.75])\n",
    "names = np.array(['Iggy', 'David', 'Lou'])\n",
    "vital_stats = np.array((weights, heights, names))\n",
    "\n",
    "print(vital_stats)"
   ]
  },
  {
   "cell_type": "markdown",
   "id": "important-combat",
   "metadata": {},
   "source": [
    "We see that in a for loop we can iterate over the rows in our array. "
   ]
  },
  {
   "cell_type": "code",
   "execution_count": 59,
   "id": "plastic-zimbabwe",
   "metadata": {},
   "outputs": [
    {
     "name": "stdout",
     "output_type": "stream",
     "text": [
      "['80' '60' '90']\n",
      "['1.8' '1.65' '1.75']\n",
      "['Iggy' 'David' 'Lou']\n"
     ]
    }
   ],
   "source": [
    "for index in vital_stats:\n",
    "    print(index)"
   ]
  },
  {
   "cell_type": "markdown",
   "id": "downtown-accessory",
   "metadata": {},
   "source": [
    "What we really want to do is iterate over column.  Luckily there is a Transpose attribute built into NumPy arrays that produces the transposed array (i.e., columns and rows swapped)."
   ]
  },
  {
   "cell_type": "code",
   "execution_count": 60,
   "id": "strong-strategy",
   "metadata": {},
   "outputs": [
    {
     "name": "stdout",
     "output_type": "stream",
     "text": [
      "['80' '1.8' 'Iggy']\n",
      "['60' '1.65' 'David']\n",
      "['90' '1.75' 'Lou']\n"
     ]
    }
   ],
   "source": [
    "for index in vital_stats.T:\n",
    "    print(index)"
   ]
  },
  {
   "cell_type": "markdown",
   "id": "basic-baseball",
   "metadata": {},
   "source": [
    "We can cycle through the rows of this transposed array (with each row now corresponding to the weight and height of an individual), and pass these values to the `bmi` function that we wrote. Each person’s weight is in column 0 of the array, and each person’s height in column 1. This loop cycles through our array person by person and calls the `bmi` function for each person in the array before printing out the result (rounded to zero decimal places using the `round` function). Note that the elements in the array we have created are all of type `str` as this is the only way to represent the elements as being of the same type (which is a requirement of NumPy arrays). We can convert each number that is currently of type `str` to a number with `float`. "
   ]
  },
  {
   "cell_type": "code",
   "execution_count": 68,
   "id": "solar-newman",
   "metadata": {},
   "outputs": [
    {
     "name": "stdout",
     "output_type": "stream",
     "text": [
      "Iggy has a BMI of 25\n",
      "David has a BMI of 22\n",
      "Lou has a BMI of 29\n"
     ]
    }
   ],
   "source": [
    "for person in vital_stats.T:\n",
    "    weight = float(person[0])\n",
    "    height = float(person[1])\n",
    "    print(person[2], \"has a BMI of\", round(bmi(weight, height)))"
   ]
  },
  {
   "cell_type": "code",
   "execution_count": 69,
   "id": "textile-marker",
   "metadata": {},
   "outputs": [
    {
     "name": "stdout",
     "output_type": "stream",
     "text": [
      "Help on built-in function round in module builtins:\n",
      "\n",
      "round(number, ndigits=None)\n",
      "    Round a number to a given precision in decimal digits.\n",
      "    \n",
      "    The return value is an integer if ndigits is omitted or None.  Otherwise\n",
      "    the return value has the same type as the number.  ndigits may be negative.\n",
      "\n"
     ]
    }
   ],
   "source": [
    "help(round)"
   ]
  },
  {
   "cell_type": "code",
   "execution_count": null,
   "id": "pregnant-consortium",
   "metadata": {},
   "outputs": [],
   "source": []
  }
 ],
 "metadata": {
  "kernelspec": {
   "display_name": "Python (data_science)",
   "language": "python",
   "name": "data_science"
  },
  "language_info": {
   "codemirror_mode": {
    "name": "ipython",
    "version": 3
   },
   "file_extension": ".py",
   "mimetype": "text/x-python",
   "name": "python",
   "nbconvert_exporter": "python",
   "pygments_lexer": "ipython3",
   "version": "3.8.5"
  }
 },
 "nbformat": 4,
 "nbformat_minor": 5
}