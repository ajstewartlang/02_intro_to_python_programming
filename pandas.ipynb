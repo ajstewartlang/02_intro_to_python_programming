{
 "cells": [
  {
   "cell_type": "markdown",
   "id": "internal-growth",
   "metadata": {},
   "source": [
    "# Data Analysis in Python"
   ]
  },
  {
   "cell_type": "markdown",
   "id": "listed-central",
   "metadata": {},
   "source": [
    "In this workshop we will focus on using Python libraries for data wrangling, visualisation, and analysis."
   ]
  },
  {
   "cell_type": "code",
   "execution_count": 2,
   "id": "disturbed-christopher",
   "metadata": {
    "tags": [
     "hide-input"
    ]
   },
   "outputs": [
    {
     "data": {
      "text/html": [
       "<div style=\"text-align: center\">\n",
       "<iframe width=\"560\" height=\"315\" src=\"https://youtube.com/embed/HjF98JryayQ\" frameborder=\"0\" allowfullscreen></iframe>\n",
       "\n",
       "</div>\n"
      ],
      "text/plain": [
       "<IPython.core.display.HTML object>"
      ]
     },
     "metadata": {},
     "output_type": "display_data"
    }
   ],
   "source": [
    "%%HTML\n",
    "<div style=\"text-align: center\"> \n",
    "<iframe width=\"560\" height=\"315\" src=\"https://youtube.com/embed/HjF98JryayQ\" frameborder=\"0\" allowfullscreen></iframe>\n",
    "\n",
    "</div>"
   ]
  },
  {
   "cell_type": "markdown",
   "id": "literary-terrace",
   "metadata": {},
   "source": [
    "## Importing pandas"
   ]
  },
  {
   "cell_type": "markdown",
   "id": "stuck-solomon",
   "metadata": {},
   "source": [
    "Fire up a Jupyter Notebook. In order to read in and then wrangle our data, the first thing we need to do once we've opened a new script in our `data_science` environment is to import the pandas library. We will import it using the conventional alias `pd`. When we need to use a function or method from pandas later, we can do that with `pd.*function/method_name*`. You can read more about the library [here](https://pandas.pydata.org/)."
   ]
  },
  {
   "cell_type": "code",
   "execution_count": 1,
   "id": "current-biodiversity",
   "metadata": {},
   "outputs": [],
   "source": [
    "import pandas as pd"
   ]
  },
  {
   "cell_type": "markdown",
   "id": "trained-peeing",
   "metadata": {},
   "source": [
    "We'll start by reading in some data using the pandas function `pd.read_csv`. The data are available via the `http` address below. If you've taken my R course, then you'll recognise this as the same data file that we looked at in the first R workshop on ANOVA. \n",
    "\n",
    "24 participants responded to a word that was either common (i.e., high lexical frequency) or rare (i.e., low lexical frequency). This is our independent variable and is coded as `high` vs. `low`. Our dependent variable is reaction time and is coded as `RT`. Subject number is coded as `Subject`. We want to know whether there is a difference between conditions (and if so, where that difference lies). \n",
    "\n",
    "We need to visualise the data, generate descriptives, and run the appropriate ANOVA to determine whether our independent variable (Condition) has an influence on our dependent variable (RT)."
   ]
  },
  {
   "cell_type": "code",
   "execution_count": 2,
   "id": "stuffed-plumbing",
   "metadata": {},
   "outputs": [],
   "source": [
    "anova_data = pd.read_csv(\"https://raw.githubusercontent.com/ajstewartlang/02_intro_to_python_programming/main/data/ANOVA_data1.csv\")"
   ]
  },
  {
   "cell_type": "markdown",
   "id": "productive-error",
   "metadata": {},
   "source": [
    "We can inspect the first few lines of the dataframe using the `.head()` method."
   ]
  },
  {
   "cell_type": "code",
   "execution_count": 3,
   "id": "excellent-television",
   "metadata": {},
   "outputs": [
    {
     "data": {
      "text/html": [
       "<div>\n",
       "<style scoped>\n",
       "    .dataframe tbody tr th:only-of-type {\n",
       "        vertical-align: middle;\n",
       "    }\n",
       "\n",
       "    .dataframe tbody tr th {\n",
       "        vertical-align: top;\n",
       "    }\n",
       "\n",
       "    .dataframe thead th {\n",
       "        text-align: right;\n",
       "    }\n",
       "</style>\n",
       "<table border=\"1\" class=\"dataframe\">\n",
       "  <thead>\n",
       "    <tr style=\"text-align: right;\">\n",
       "      <th></th>\n",
       "      <th>Subject</th>\n",
       "      <th>Condition</th>\n",
       "      <th>RT</th>\n",
       "    </tr>\n",
       "  </thead>\n",
       "  <tbody>\n",
       "    <tr>\n",
       "      <th>0</th>\n",
       "      <td>1</td>\n",
       "      <td>low</td>\n",
       "      <td>1103</td>\n",
       "    </tr>\n",
       "    <tr>\n",
       "      <th>1</th>\n",
       "      <td>2</td>\n",
       "      <td>low</td>\n",
       "      <td>1170</td>\n",
       "    </tr>\n",
       "    <tr>\n",
       "      <th>2</th>\n",
       "      <td>3</td>\n",
       "      <td>low</td>\n",
       "      <td>1225</td>\n",
       "    </tr>\n",
       "    <tr>\n",
       "      <th>3</th>\n",
       "      <td>4</td>\n",
       "      <td>low</td>\n",
       "      <td>1084</td>\n",
       "    </tr>\n",
       "    <tr>\n",
       "      <th>4</th>\n",
       "      <td>5</td>\n",
       "      <td>low</td>\n",
       "      <td>1219</td>\n",
       "    </tr>\n",
       "  </tbody>\n",
       "</table>\n",
       "</div>"
      ],
      "text/plain": [
       "   Subject Condition    RT\n",
       "0        1       low  1103\n",
       "1        2       low  1170\n",
       "2        3       low  1225\n",
       "3        4       low  1084\n",
       "4        5       low  1219"
      ]
     },
     "execution_count": 3,
     "metadata": {},
     "output_type": "execute_result"
    }
   ],
   "source": [
    "anova_data.head()"
   ]
  },
  {
   "cell_type": "markdown",
   "id": "foreign-buffer",
   "metadata": {},
   "source": [
    "We can use other `pandas` methods such as `.describe()`, `.info()` and `.hist()` to explore our dataframe further."
   ]
  },
  {
   "cell_type": "code",
   "execution_count": 4,
   "id": "measured-stability",
   "metadata": {},
   "outputs": [
    {
     "data": {
      "text/html": [
       "<div>\n",
       "<style scoped>\n",
       "    .dataframe tbody tr th:only-of-type {\n",
       "        vertical-align: middle;\n",
       "    }\n",
       "\n",
       "    .dataframe tbody tr th {\n",
       "        vertical-align: top;\n",
       "    }\n",
       "\n",
       "    .dataframe thead th {\n",
       "        text-align: right;\n",
       "    }\n",
       "</style>\n",
       "<table border=\"1\" class=\"dataframe\">\n",
       "  <thead>\n",
       "    <tr style=\"text-align: right;\">\n",
       "      <th></th>\n",
       "      <th>Subject</th>\n",
       "      <th>RT</th>\n",
       "    </tr>\n",
       "  </thead>\n",
       "  <tbody>\n",
       "    <tr>\n",
       "      <th>count</th>\n",
       "      <td>24.000000</td>\n",
       "      <td>24.000000</td>\n",
       "    </tr>\n",
       "    <tr>\n",
       "      <th>mean</th>\n",
       "      <td>12.500000</td>\n",
       "      <td>1021.416667</td>\n",
       "    </tr>\n",
       "    <tr>\n",
       "      <th>std</th>\n",
       "      <td>7.071068</td>\n",
       "      <td>178.388661</td>\n",
       "    </tr>\n",
       "    <tr>\n",
       "      <th>min</th>\n",
       "      <td>1.000000</td>\n",
       "      <td>733.000000</td>\n",
       "    </tr>\n",
       "    <tr>\n",
       "      <th>25%</th>\n",
       "      <td>6.750000</td>\n",
       "      <td>862.250000</td>\n",
       "    </tr>\n",
       "    <tr>\n",
       "      <th>50%</th>\n",
       "      <td>12.500000</td>\n",
       "      <td>1050.000000</td>\n",
       "    </tr>\n",
       "    <tr>\n",
       "      <th>75%</th>\n",
       "      <td>18.250000</td>\n",
       "      <td>1178.250000</td>\n",
       "    </tr>\n",
       "    <tr>\n",
       "      <th>max</th>\n",
       "      <td>24.000000</td>\n",
       "      <td>1326.000000</td>\n",
       "    </tr>\n",
       "  </tbody>\n",
       "</table>\n",
       "</div>"
      ],
      "text/plain": [
       "         Subject           RT\n",
       "count  24.000000    24.000000\n",
       "mean   12.500000  1021.416667\n",
       "std     7.071068   178.388661\n",
       "min     1.000000   733.000000\n",
       "25%     6.750000   862.250000\n",
       "50%    12.500000  1050.000000\n",
       "75%    18.250000  1178.250000\n",
       "max    24.000000  1326.000000"
      ]
     },
     "execution_count": 4,
     "metadata": {},
     "output_type": "execute_result"
    }
   ],
   "source": [
    "anova_data.describe()"
   ]
  },
  {
   "cell_type": "code",
   "execution_count": 5,
   "id": "varying-holmes",
   "metadata": {},
   "outputs": [
    {
     "name": "stdout",
     "output_type": "stream",
     "text": [
      "<class 'pandas.core.frame.DataFrame'>\n",
      "RangeIndex: 24 entries, 0 to 23\n",
      "Data columns (total 3 columns):\n",
      " #   Column     Non-Null Count  Dtype \n",
      "---  ------     --------------  ----- \n",
      " 0   Subject    24 non-null     int64 \n",
      " 1   Condition  24 non-null     object\n",
      " 2   RT         24 non-null     int64 \n",
      "dtypes: int64(2), object(1)\n",
      "memory usage: 704.0+ bytes\n"
     ]
    }
   ],
   "source": [
    "anova_data.info()"
   ]
  },
  {
   "cell_type": "code",
   "execution_count": 6,
   "id": "differential-arbitration",
   "metadata": {},
   "outputs": [
    {
     "data": {
      "text/plain": [
       "array([[<AxesSubplot:title={'center':'Subject'}>,\n",
       "        <AxesSubplot:title={'center':'RT'}>]], dtype=object)"
      ]
     },
     "execution_count": 6,
     "metadata": {},
     "output_type": "execute_result"
    },
    {
     "data": {
      "image/png": "[encoded data removed]",
      "text/plain": [
       "<Figure size 432x288 with 2 Axes>"
      ]
     },
     "metadata": {
      "needs_background": "light"
     },
     "output_type": "display_data"
    }
   ],
   "source": [
    "anova_data.hist()"
   ]
  },
  {
   "cell_type": "markdown",
   "id": "adverse-thursday",
   "metadata": {},
   "source": [
    "The Subject plot above really isn't very informative, so let's just plot the RT data. So far though, this isn't split by our experimental groups. We'll come to that next."
   ]
  },
  {
   "cell_type": "code",
   "execution_count": 11,
   "id": "protective-bargain",
   "metadata": {},
   "outputs": [
    {
     "data": {
      "text/plain": [
       "<AxesSubplot:>"
      ]
     },
     "execution_count": 11,
     "metadata": {},
     "output_type": "execute_result"
    },
    {
     "data": {
      "image/png": "[encoded data removed]",
      "text/plain": [
       "<Figure size 432x288 with 1 Axes>"
      ]
     },
     "metadata": {
      "needs_background": "light"
     },
     "output_type": "display_data"
    }
   ],
   "source": [
    "anova_data['RT'].hist()"
   ]
  },
  {
   "cell_type": "markdown",
   "id": "matched-mountain",
   "metadata": {},
   "source": [
    "## Visualising Our Data by Groups\n",
    "\n",
    "We need to use the `matplotlib` library for the rest of our visualisations. This library contains a huge range of tools for visualising data. You can read more about it [here](https://matplotlib.org/stable/). "
   ]
  },
  {
   "cell_type": "code",
   "execution_count": 13,
   "id": "armed-commerce",
   "metadata": {},
   "outputs": [],
   "source": [
    "import matplotlib.pyplot as plt"
   ]
  },
  {
   "cell_type": "markdown",
   "id": "excess-tribe",
   "metadata": {},
   "source": [
    "In the code below we used the `plot` function from `pyplot` (which we have imported under the alias `plt`. We build our plot layer by layer (similar to how we do things in `R` with `ggplot2`). There is even a built-in `ggplot` style we can use. We define our plot initially in terms of what's on the x-axis, what's on the y-axis, and then what marker we want to use - which in this case is blue circles (`bo`).\n",
    "\n",
    "After this, we then add an x-axis label, a y-axis label, and a title. We also set the margins to make the plot like nice."
   ]
  },
  {
   "cell_type": "code",
   "execution_count": 37,
   "id": "centered-crystal",
   "metadata": {},
   "outputs": [
    {
     "data": {
      "image/png": "[encoded data removed]",
      "text/plain": [
       "<Figure size 432x288 with 1 Axes>"
      ]
     },
     "metadata": {},
     "output_type": "display_data"
    }
   ],
   "source": [
    "plt.style.use('ggplot')\n",
    "plt.plot(anova_data['Condition'], anova_data['RT'], 'bo')\n",
    "plt.xlabel('Condition')\n",
    "plt.ylabel('RT (ms.)')\n",
    "plt.title('Reaction Time by Condition')\n",
    "plt.margins(.5, .5)\n",
    "plt.show()"
   ]
  },
  {
   "cell_type": "markdown",
   "id": "peaceful-kelly",
   "metadata": {},
   "source": [
    "Let's now work out some descriptive statistics using `pandas`  functions. We'll use the `groupby` function to group `anova_data` by `Condition`, and we'll map this onto a new variable I'm calling `grouped_data`."
   ]
  },
  {
   "cell_type": "code",
   "execution_count": 32,
   "id": "strategic-soccer",
   "metadata": {},
   "outputs": [],
   "source": [
    "grouped_data = anova_data.groupby(['Condition'])"
   ]
  },
  {
   "cell_type": "markdown",
   "id": "affecting-tracker",
   "metadata": {},
   "source": [
    "We can then generate some descriptives about this grouped dataframe. We can use the `count` function to work out how many observations we have for each of our two conditions."
   ]
  },
  {
   "cell_type": "code",
   "execution_count": 26,
   "id": "indoor-approval",
   "metadata": {},
   "outputs": [
    {
     "data": {
      "text/html": [
       "<div>\n",
       "<style scoped>\n",
       "    .dataframe tbody tr th:only-of-type {\n",
       "        vertical-align: middle;\n",
       "    }\n",
       "\n",
       "    .dataframe tbody tr th {\n",
       "        vertical-align: top;\n",
       "    }\n",
       "\n",
       "    .dataframe thead th {\n",
       "        text-align: right;\n",
       "    }\n",
       "</style>\n",
       "<table border=\"1\" class=\"dataframe\">\n",
       "  <thead>\n",
       "    <tr style=\"text-align: right;\">\n",
       "      <th></th>\n",
       "      <th>Subject</th>\n",
       "      <th>RT</th>\n",
       "    </tr>\n",
       "    <tr>\n",
       "      <th>Condition</th>\n",
       "      <th></th>\n",
       "      <th></th>\n",
       "    </tr>\n",
       "  </thead>\n",
       "  <tbody>\n",
       "    <tr>\n",
       "      <th>high</th>\n",
       "      <td>12</td>\n",
       "      <td>12</td>\n",
       "    </tr>\n",
       "    <tr>\n",
       "      <th>low</th>\n",
       "      <td>12</td>\n",
       "      <td>12</td>\n",
       "    </tr>\n",
       "  </tbody>\n",
       "</table>\n",
       "</div>"
      ],
      "text/plain": [
       "           Subject  RT\n",
       "Condition             \n",
       "high            12  12\n",
       "low             12  12"
      ]
     },
     "execution_count": 26,
     "metadata": {},
     "output_type": "execute_result"
    }
   ],
   "source": [
    "grouped_data.count()"
   ]
  },
  {
   "cell_type": "markdown",
   "id": "governmental-python",
   "metadata": {},
   "source": [
    "If we wanted just to output the count for our `RT` column we could do the following."
   ]
  },
  {
   "cell_type": "code",
   "execution_count": 27,
   "id": "flush-sensitivity",
   "metadata": {},
   "outputs": [
    {
     "data": {
      "text/plain": [
       "Condition\n",
       "high    12\n",
       "low     12\n",
       "Name: RT, dtype: int64"
      ]
     },
     "execution_count": 27,
     "metadata": {},
     "output_type": "execute_result"
    }
   ],
   "source": [
    "grouped_data.count()['RT']"
   ]
  },
  {
   "cell_type": "markdown",
   "id": "adverse-technique",
   "metadata": {},
   "source": [
    "From the above we can see we have 12 observations in each condition, and our variable RT is type integer. We can use other `pandas` functions such as `mean()` and `std()` in a similar way."
   ]
  },
  {
   "cell_type": "code",
   "execution_count": 28,
   "id": "optional-teaching",
   "metadata": {},
   "outputs": [
    {
     "data": {
      "text/plain": [
       "Condition\n",
       "high     864.666667\n",
       "low     1178.166667\n",
       "Name: RT, dtype: float64"
      ]
     },
     "execution_count": 28,
     "metadata": {},
     "output_type": "execute_result"
    }
   ],
   "source": [
    "grouped_data.mean()['RT']"
   ]
  },
  {
   "cell_type": "code",
   "execution_count": 29,
   "id": "proprietary-knock",
   "metadata": {},
   "outputs": [
    {
     "data": {
      "text/plain": [
       "Condition\n",
       "high    74.722923\n",
       "low     85.708633\n",
       "Name: RT, dtype: float64"
      ]
     },
     "execution_count": 29,
     "metadata": {},
     "output_type": "execute_result"
    }
   ],
   "source": [
    "grouped_data.std()['RT']"
   ]
  },
  {
   "cell_type": "markdown",
   "id": "controversial-lemon",
   "metadata": {},
   "source": [
    "Sometimes it can be useful to think of the `.` notation in Python as meaning 'and then'. We could combine some of the commands above into one using `.` which would allow us to do away with creating the temporary variable `grouped_data`. For example, the following will take our original dataframe, then group it by `Condition`, then generate the means, displaying only the RT `column`."
   ]
  },
  {
   "cell_type": "code",
   "execution_count": 34,
   "id": "external-picture",
   "metadata": {},
   "outputs": [
    {
     "data": {
      "text/plain": [
       "Condition\n",
       "high     864.666667\n",
       "low     1178.166667\n",
       "Name: RT, dtype: float64"
      ]
     },
     "execution_count": 34,
     "metadata": {},
     "output_type": "execute_result"
    }
   ],
   "source": [
    "anova_data.groupby(['Condition']).mean()['RT']"
   ]
  },
  {
   "cell_type": "markdown",
   "id": "respiratory-stylus",
   "metadata": {},
   "source": [
    "We can map our means onto a new variable I'm calling `my_means` and then we can plot these means as a bar graph."
   ]
  },
  {
   "cell_type": "code",
   "execution_count": 36,
   "id": "checked-dividend",
   "metadata": {},
   "outputs": [
    {
     "data": {
      "image/png": "[encoded data removed]",
      "text/plain": [
       "<Figure size 432x288 with 1 Axes>"
      ]
     },
     "metadata": {},
     "output_type": "display_data"
    }
   ],
   "source": [
    "my_means = grouped_data.mean()['RT']\n",
    "my_means.plot(kind='bar')\n",
    "plt.ylabel('RT (ms.)')\n",
    "plt.title('Reaction Time by Condition')\n",
    "plt.show()"
   ]
  },
  {
   "cell_type": "markdown",
   "id": "governmental-technology",
   "metadata": {},
   "source": [
    "## One-Way ANOVA\n",
    "\n",
    "To run a between participants one-way ANOVA to determine whether there is a difference between our two conditions we're going to use the `stats` module from the `scipy` library. We import it as follows... "
   ]
  },
  {
   "cell_type": "code",
   "execution_count": 38,
   "id": "fourth-island",
   "metadata": {},
   "outputs": [],
   "source": [
    "from scipy import stats"
   ]
  },
  {
   "cell_type": "markdown",
   "id": "emerging-champion",
   "metadata": {},
   "source": [
    "We are now going to subset our `anova_data` data frame. We are going to do that by using a logical condition `[anova_data['Condition']=='high']`. If we were to run the following we'd see we have the subset of the data frame where Condition is equal to 'high'."
   ]
  },
  {
   "cell_type": "code",
   "execution_count": 42,
   "id": "whole-antarctica",
   "metadata": {},
   "outputs": [
    {
     "data": {
      "text/html": [
       "<div>\n",
       "<style scoped>\n",
       "    .dataframe tbody tr th:only-of-type {\n",
       "        vertical-align: middle;\n",
       "    }\n",
       "\n",
       "    .dataframe tbody tr th {\n",
       "        vertical-align: top;\n",
       "    }\n",
       "\n",
       "    .dataframe thead th {\n",
       "        text-align: right;\n",
       "    }\n",
       "</style>\n",
       "<table border=\"1\" class=\"dataframe\">\n",
       "  <thead>\n",
       "    <tr style=\"text-align: right;\">\n",
       "      <th></th>\n",
       "      <th>Subject</th>\n",
       "      <th>Condition</th>\n",
       "      <th>RT</th>\n",
       "    </tr>\n",
       "  </thead>\n",
       "  <tbody>\n",
       "    <tr>\n",
       "      <th>12</th>\n",
       "      <td>13</td>\n",
       "      <td>high</td>\n",
       "      <td>828</td>\n",
       "    </tr>\n",
       "    <tr>\n",
       "      <th>13</th>\n",
       "      <td>14</td>\n",
       "      <td>high</td>\n",
       "      <td>925</td>\n",
       "    </tr>\n",
       "    <tr>\n",
       "      <th>14</th>\n",
       "      <td>15</td>\n",
       "      <td>high</td>\n",
       "      <td>915</td>\n",
       "    </tr>\n",
       "    <tr>\n",
       "      <th>15</th>\n",
       "      <td>16</td>\n",
       "      <td>high</td>\n",
       "      <td>869</td>\n",
       "    </tr>\n",
       "    <tr>\n",
       "      <th>16</th>\n",
       "      <td>17</td>\n",
       "      <td>high</td>\n",
       "      <td>804</td>\n",
       "    </tr>\n",
       "    <tr>\n",
       "      <th>17</th>\n",
       "      <td>18</td>\n",
       "      <td>high</td>\n",
       "      <td>835</td>\n",
       "    </tr>\n",
       "    <tr>\n",
       "      <th>18</th>\n",
       "      <td>19</td>\n",
       "      <td>high</td>\n",
       "      <td>1022</td>\n",
       "    </tr>\n",
       "    <tr>\n",
       "      <th>19</th>\n",
       "      <td>20</td>\n",
       "      <td>high</td>\n",
       "      <td>919</td>\n",
       "    </tr>\n",
       "    <tr>\n",
       "      <th>20</th>\n",
       "      <td>21</td>\n",
       "      <td>high</td>\n",
       "      <td>842</td>\n",
       "    </tr>\n",
       "    <tr>\n",
       "      <th>21</th>\n",
       "      <td>22</td>\n",
       "      <td>high</td>\n",
       "      <td>805</td>\n",
       "    </tr>\n",
       "    <tr>\n",
       "      <th>22</th>\n",
       "      <td>23</td>\n",
       "      <td>high</td>\n",
       "      <td>879</td>\n",
       "    </tr>\n",
       "    <tr>\n",
       "      <th>23</th>\n",
       "      <td>24</td>\n",
       "      <td>high</td>\n",
       "      <td>733</td>\n",
       "    </tr>\n",
       "  </tbody>\n",
       "</table>\n",
       "</div>"
      ],
      "text/plain": [
       "    Subject Condition    RT\n",
       "12       13      high   828\n",
       "13       14      high   925\n",
       "14       15      high   915\n",
       "15       16      high   869\n",
       "16       17      high   804\n",
       "17       18      high   835\n",
       "18       19      high  1022\n",
       "19       20      high   919\n",
       "20       21      high   842\n",
       "21       22      high   805\n",
       "22       23      high   879\n",
       "23       24      high   733"
      ]
     },
     "execution_count": 42,
     "metadata": {},
     "output_type": "execute_result"
    }
   ],
   "source": [
    "anova_data[anova_data['Condition']=='high']"
   ]
  },
  {
   "cell_type": "markdown",
   "id": "adequate-permit",
   "metadata": {},
   "source": [
    "But what we really want is to just select the `RT` column."
   ]
  },
  {
   "cell_type": "code",
   "execution_count": 43,
   "id": "metallic-pilot",
   "metadata": {},
   "outputs": [
    {
     "data": {
      "text/plain": [
       "12     828\n",
       "13     925\n",
       "14     915\n",
       "15     869\n",
       "16     804\n",
       "17     835\n",
       "18    1022\n",
       "19     919\n",
       "20     842\n",
       "21     805\n",
       "22     879\n",
       "23     733\n",
       "Name: RT, dtype: int64"
      ]
     },
     "execution_count": 43,
     "metadata": {},
     "output_type": "execute_result"
    }
   ],
   "source": [
    "anova_data[anova_data['Condition']=='high']['RT']"
   ]
  },
  {
   "cell_type": "markdown",
   "id": "environmental-bahamas",
   "metadata": {},
   "source": [
    "By building on the above we can create two new variables, one corresponding to the data for the `high` condition group and the other for the `low` condition group."
   ]
  },
  {
   "cell_type": "code",
   "execution_count": 44,
   "id": "simplified-billion",
   "metadata": {},
   "outputs": [],
   "source": [
    "high_group = anova_data[anova_data['Condition']=='high']['RT']\n",
    "low_group = anova_data[anova_data['Condition']=='low']['RT']"
   ]
  },
  {
   "cell_type": "markdown",
   "id": "manufactured-effect",
   "metadata": {},
   "source": [
    "We are now in a position to run a 1-way ANOVA. We use the`f_oneway` function in the `stats` module to do this. The two parameters that it needs are the two groups that we are wanting to compare to test the null hypothesis that the two groups have the same population mean. If we had three groups, we would pass the three groups to the function.  "
   ]
  },
  {
   "cell_type": "code",
   "execution_count": 45,
   "id": "allied-thanksgiving",
   "metadata": {},
   "outputs": [
    {
     "data": {
      "text/plain": [
       "F_onewayResult(statistic=91.2168592809951, pvalue=2.767399319989348e-09)"
      ]
     },
     "execution_count": 45,
     "metadata": {},
     "output_type": "execute_result"
    }
   ],
   "source": [
    "stats.f_oneway(high_group, low_group)"
   ]
  },
  {
   "cell_type": "markdown",
   "id": "arctic-mongolia",
   "metadata": {},
   "source": [
    "Remember, the *p*-value is the probability of obtaining test results at least as extreme as the results observed, under the assumption that the null hypothesis is true. Note, the output above gives us the F-value and the *p*-value but not the degrees of freedom. As we just have two groups, we could also run an independent sample t-test using the `ttest_ind` function from `stats`."
   ]
  },
  {
   "cell_type": "code",
   "execution_count": 46,
   "id": "considerable-entrance",
   "metadata": {},
   "outputs": [
    {
     "data": {
      "text/plain": [
       "Ttest_indResult(statistic=-9.550751765227444, pvalue=2.7673993199893327e-09)"
      ]
     },
     "execution_count": 46,
     "metadata": {},
     "output_type": "execute_result"
    }
   ],
   "source": [
    "stats.ttest_ind(high_group, low_group)"
   ]
  },
  {
   "cell_type": "markdown",
   "id": "stock-sellers",
   "metadata": {},
   "source": [
    "Note that the p-value is the same as we found with our ANOVA. And the *F*-statistic in the ANOVA is the *t*-statistic squared."
   ]
  },
  {
   "cell_type": "code",
   "execution_count": 47,
   "id": "asian-frederick",
   "metadata": {},
   "outputs": [
    {
     "data": {
      "text/plain": [
       "91.21685928099514"
      ]
     },
     "execution_count": 47,
     "metadata": {},
     "output_type": "execute_result"
    }
   ],
   "source": [
    "9.550751765227444 * 9.550751765227444"
   ]
  },
  {
   "cell_type": "markdown",
   "id": "assigned-corrections",
   "metadata": {},
   "source": [
    "If we had three groups in our study, we could run the 1-way ANOVA as we did above and then if that is significant, we could run multiple t-tests with a manually adjusted alpha level (e.g., using the Bonferroni correction). One of the limitations with using the `stats` module is that degrees of freedom are not reported, nor is information about the residuals. In order to generate an ANOVA table more like the type we're familiar with we are going to use the `statsmodels` package. This isn't a package we yet have in our `data_science` environment so we need to install it using the Terminal shell.  \n",
    "\n",
    "Go into your shell and activate the `data_science` environment using `conda activate data_science`. You then need to install the package using `conda install statsmodels`. Once it is installed, go back to your Jupyter Notebook and you should be able to import `statsmodels` and the `ols` module (for ordinary least squares models) as follows."
   ]
  },
  {
   "cell_type": "code",
   "execution_count": 49,
   "id": "exclusive-queen",
   "metadata": {},
   "outputs": [],
   "source": [
    "import statsmodels.api as sm\n",
    "from statsmodels.formula.api import ols"
   ]
  },
  {
   "cell_type": "markdown",
   "id": "distinct-runner",
   "metadata": {},
   "source": [
    "We define our model below using syntax not too disimilar from how we did the same in R. We are going to fit an OLS (Ordinary Least Squares) model to our data where our outcome variable `RT` is predicted by `Condition`. We then present the results in an ANOVA table using Type 3 Sums of Squares. This is much closer to the level of detail that we need."
   ]
  },
  {
   "cell_type": "code",
   "execution_count": 50,
   "id": "imported-commitment",
   "metadata": {},
   "outputs": [
    {
     "data": {
      "text/html": [
       "<div>\n",
       "<style scoped>\n",
       "    .dataframe tbody tr th:only-of-type {\n",
       "        vertical-align: middle;\n",
       "    }\n",
       "\n",
       "    .dataframe tbody tr th {\n",
       "        vertical-align: top;\n",
       "    }\n",
       "\n",
       "    .dataframe thead th {\n",
       "        text-align: right;\n",
       "    }\n",
       "</style>\n",
       "<table border=\"1\" class=\"dataframe\">\n",
       "  <thead>\n",
       "    <tr style=\"text-align: right;\">\n",
       "      <th></th>\n",
       "      <th>sum_sq</th>\n",
       "      <th>df</th>\n",
       "      <th>F</th>\n",
       "      <th>PR(&gt;F)</th>\n",
       "    </tr>\n",
       "  </thead>\n",
       "  <tbody>\n",
       "    <tr>\n",
       "      <th>Intercept</th>\n",
       "      <td>8.971781e+06</td>\n",
       "      <td>1.0</td>\n",
       "      <td>1387.801825</td>\n",
       "      <td>2.263783e-21</td>\n",
       "    </tr>\n",
       "    <tr>\n",
       "      <th>Condition</th>\n",
       "      <td>5.896935e+05</td>\n",
       "      <td>1.0</td>\n",
       "      <td>91.216859</td>\n",
       "      <td>2.767399e-09</td>\n",
       "    </tr>\n",
       "    <tr>\n",
       "      <th>Residual</th>\n",
       "      <td>1.422243e+05</td>\n",
       "      <td>22.0</td>\n",
       "      <td>NaN</td>\n",
       "      <td>NaN</td>\n",
       "    </tr>\n",
       "  </tbody>\n",
       "</table>\n",
       "</div>"
      ],
      "text/plain": [
       "                 sum_sq    df            F        PR(>F)\n",
       "Intercept  8.971781e+06   1.0  1387.801825  2.263783e-21\n",
       "Condition  5.896935e+05   1.0    91.216859  2.767399e-09\n",
       "Residual   1.422243e+05  22.0          NaN           NaN"
      ]
     },
     "execution_count": 50,
     "metadata": {},
     "output_type": "execute_result"
    }
   ],
   "source": [
    "model = ols('RT ~ Condition', data=anova_data).fit()\n",
    "anova_table = sm.stats.anova_lm(model, typ=3)\n",
    "anova_table"
   ]
  },
  {
   "cell_type": "markdown",
   "id": "advised-organizer",
   "metadata": {},
   "source": [
    "The *F*-value is the mean square error of Condition divided by the mean square error of our Residuals."
   ]
  },
  {
   "cell_type": "code",
   "execution_count": 53,
   "id": "annoying-texture",
   "metadata": {},
   "outputs": [
    {
     "data": {
      "text/plain": [
       "91.21688065963411"
      ]
     },
     "execution_count": 53,
     "metadata": {},
     "output_type": "execute_result"
    }
   ],
   "source": [
    "(5.896935e+05 / 1) / (1.422243e+05 / 22)"
   ]
  },
  {
   "cell_type": "markdown",
   "id": "taken-purpose",
   "metadata": {},
   "source": [
    "## Factorial ANOVA\n",
    "\n",
    "In many types of experiments we are interested in how two (or more) experimental factors interact with each other. For example, in a typical priming paradigm experiment we might be interested in whether people's response times to a positively or negatively valenced target stimulus are influenced by whether it was preceded by a positively or negatively valenced prime. \n",
    "\n",
    "The data in the file below are from a 2 x 2 repeated measures reaction time experiment. We were interested in how quickly participants could respond to Targets that were Positive vs. Negative when they followed Positive vs. Negative Primes. We expected that Positive Targets would be responded to more quickly after Positive vs. Negative Primes, and that Negative Targets would be responded to more quickly after Negative vs. Positive Primes. We measured the response times of 24 participants responding in each of these four conditions. We want to determine if there is a difference between our conditions (and if so, where that difference lies)."
   ]
  },
  {
   "cell_type": "code",
   "execution_count": 54,
   "id": "geographic-french",
   "metadata": {},
   "outputs": [],
   "source": [
    "factorial_anova_data = pd.read_csv(\"https://raw.githubusercontent.com/ajstewartlang/02_intro_to_python_programming/main/data/ANOVA_data3.csv\")"
   ]
  },
  {
   "cell_type": "code",
   "execution_count": 55,
   "id": "hollow-navigator",
   "metadata": {},
   "outputs": [
    {
     "data": {
      "text/html": [
       "<div>\n",
       "<style scoped>\n",
       "    .dataframe tbody tr th:only-of-type {\n",
       "        vertical-align: middle;\n",
       "    }\n",
       "\n",
       "    .dataframe tbody tr th {\n",
       "        vertical-align: top;\n",
       "    }\n",
       "\n",
       "    .dataframe thead th {\n",
       "        text-align: right;\n",
       "    }\n",
       "</style>\n",
       "<table border=\"1\" class=\"dataframe\">\n",
       "  <thead>\n",
       "    <tr style=\"text-align: right;\">\n",
       "      <th></th>\n",
       "      <th>Subject</th>\n",
       "      <th>Prime</th>\n",
       "      <th>Target</th>\n",
       "      <th>RT</th>\n",
       "    </tr>\n",
       "  </thead>\n",
       "  <tbody>\n",
       "    <tr>\n",
       "      <th>0</th>\n",
       "      <td>1</td>\n",
       "      <td>Negative</td>\n",
       "      <td>Positive</td>\n",
       "      <td>1355</td>\n",
       "    </tr>\n",
       "    <tr>\n",
       "      <th>1</th>\n",
       "      <td>2</td>\n",
       "      <td>Negative</td>\n",
       "      <td>Positive</td>\n",
       "      <td>1456</td>\n",
       "    </tr>\n",
       "    <tr>\n",
       "      <th>2</th>\n",
       "      <td>3</td>\n",
       "      <td>Negative</td>\n",
       "      <td>Positive</td>\n",
       "      <td>1538</td>\n",
       "    </tr>\n",
       "    <tr>\n",
       "      <th>3</th>\n",
       "      <td>4</td>\n",
       "      <td>Negative</td>\n",
       "      <td>Positive</td>\n",
       "      <td>1327</td>\n",
       "    </tr>\n",
       "    <tr>\n",
       "      <th>4</th>\n",
       "      <td>5</td>\n",
       "      <td>Negative</td>\n",
       "      <td>Positive</td>\n",
       "      <td>1529</td>\n",
       "    </tr>\n",
       "    <tr>\n",
       "      <th>...</th>\n",
       "      <td>...</td>\n",
       "      <td>...</td>\n",
       "      <td>...</td>\n",
       "      <td>...</td>\n",
       "    </tr>\n",
       "    <tr>\n",
       "      <th>91</th>\n",
       "      <td>20</td>\n",
       "      <td>Negative</td>\n",
       "      <td>Negative</td>\n",
       "      <td>1271</td>\n",
       "    </tr>\n",
       "    <tr>\n",
       "      <th>92</th>\n",
       "      <td>21</td>\n",
       "      <td>Negative</td>\n",
       "      <td>Negative</td>\n",
       "      <td>1315</td>\n",
       "    </tr>\n",
       "    <tr>\n",
       "      <th>93</th>\n",
       "      <td>22</td>\n",
       "      <td>Negative</td>\n",
       "      <td>Negative</td>\n",
       "      <td>1537</td>\n",
       "    </tr>\n",
       "    <tr>\n",
       "      <th>94</th>\n",
       "      <td>23</td>\n",
       "      <td>Negative</td>\n",
       "      <td>Negative</td>\n",
       "      <td>1349</td>\n",
       "    </tr>\n",
       "    <tr>\n",
       "      <th>95</th>\n",
       "      <td>24</td>\n",
       "      <td>Negative</td>\n",
       "      <td>Negative</td>\n",
       "      <td>1390</td>\n",
       "    </tr>\n",
       "  </tbody>\n",
       "</table>\n",
       "<p>96 rows × 4 columns</p>\n",
       "</div>"
      ],
      "text/plain": [
       "    Subject     Prime    Target    RT\n",
       "0         1  Negative  Positive  1355\n",
       "1         2  Negative  Positive  1456\n",
       "2         3  Negative  Positive  1538\n",
       "3         4  Negative  Positive  1327\n",
       "4         5  Negative  Positive  1529\n",
       "..      ...       ...       ...   ...\n",
       "91       20  Negative  Negative  1271\n",
       "92       21  Negative  Negative  1315\n",
       "93       22  Negative  Negative  1537\n",
       "94       23  Negative  Negative  1349\n",
       "95       24  Negative  Negative  1390\n",
       "\n",
       "[96 rows x 4 columns]"
      ]
     },
     "execution_count": 55,
     "metadata": {},
     "output_type": "execute_result"
    }
   ],
   "source": [
    "factorial_anova_data"
   ]
  },
  {
   "cell_type": "code",
   "execution_count": 56,
   "id": "fitting-insulation",
   "metadata": {},
   "outputs": [
    {
     "data": {
      "text/plain": [
       "Prime     Target  \n",
       "Negative  Negative    1420.166667\n",
       "          Positive    1457.416667\n",
       "Positive  Negative    1428.041667\n",
       "          Positive     593.333333\n",
       "Name: RT, dtype: float64"
      ]
     },
     "execution_count": 56,
     "metadata": {},
     "output_type": "execute_result"
    }
   ],
   "source": [
    "grouped_data = factorial_anova_data.groupby(['Prime', 'Target'])\n",
    "group_means = grouped_data.mean()['RT']\n",
    "group_means"
   ]
  },
  {
   "cell_type": "code",
   "execution_count": 58,
   "id": "centered-justice",
   "metadata": {},
   "outputs": [
    {
     "data": {
      "image/png": "[encoded data removed]",
      "text/plain": [
       "<Figure size 432x288 with 1 Axes>"
      ]
     },
     "metadata": {},
     "output_type": "display_data"
    }
   ],
   "source": [
    "group_means.plot(kind=\"bar\")\n",
    "plt.show()"
   ]
  },
  {
   "cell_type": "markdown",
   "id": "distinct-crash",
   "metadata": {},
   "source": [
    "While the above plot looks *ok*, it's a little tricky seeing the nature of the interaction. Luckily the `statsmodels` library has a function called `interaction_plot` for plotting the kind of interaction we are interested in looking at."
   ]
  },
  {
   "cell_type": "code",
   "execution_count": 62,
   "id": "martial-lecture",
   "metadata": {},
   "outputs": [],
   "source": [
    "from statsmodels.graphics.factorplots import interaction_plot"
   ]
  },
  {
   "cell_type": "markdown",
   "id": "bronze-controversy",
   "metadata": {},
   "source": [
    "We need to create a `pandas` data frame that contains the means for each of our four conditions, and thus captures the 2 x 2 nature of our design. We can use `pd.DataFrame` to turn our object of means by condition into a data frame that we can then use in our interaction plot."
   ]
  },
  {
   "cell_type": "code",
   "execution_count": 63,
   "id": "thermal-notice",
   "metadata": {},
   "outputs": [
    {
     "data": {
      "text/html": [
       "<div>\n",
       "<style scoped>\n",
       "    .dataframe tbody tr th:only-of-type {\n",
       "        vertical-align: middle;\n",
       "    }\n",
       "\n",
       "    .dataframe tbody tr th {\n",
       "        vertical-align: top;\n",
       "    }\n",
       "\n",
       "    .dataframe thead th {\n",
       "        text-align: right;\n",
       "    }\n",
       "</style>\n",
       "<table border=\"1\" class=\"dataframe\">\n",
       "  <thead>\n",
       "    <tr style=\"text-align: right;\">\n",
       "      <th></th>\n",
       "      <th></th>\n",
       "      <th>Subject</th>\n",
       "      <th>RT</th>\n",
       "    </tr>\n",
       "    <tr>\n",
       "      <th>Prime</th>\n",
       "      <th>Target</th>\n",
       "      <th></th>\n",
       "      <th></th>\n",
       "    </tr>\n",
       "  </thead>\n",
       "  <tbody>\n",
       "    <tr>\n",
       "      <th rowspan=\"2\" valign=\"top\">Negative</th>\n",
       "      <th>Negative</th>\n",
       "      <td>12.5</td>\n",
       "      <td>1420.166667</td>\n",
       "    </tr>\n",
       "    <tr>\n",
       "      <th>Positive</th>\n",
       "      <td>12.5</td>\n",
       "      <td>1457.416667</td>\n",
       "    </tr>\n",
       "    <tr>\n",
       "      <th rowspan=\"2\" valign=\"top\">Positive</th>\n",
       "      <th>Negative</th>\n",
       "      <td>12.5</td>\n",
       "      <td>1428.041667</td>\n",
       "    </tr>\n",
       "    <tr>\n",
       "      <th>Positive</th>\n",
       "      <td>12.5</td>\n",
       "      <td>593.333333</td>\n",
       "    </tr>\n",
       "  </tbody>\n",
       "</table>\n",
       "</div>"
      ],
      "text/plain": [
       "                   Subject           RT\n",
       "Prime    Target                        \n",
       "Negative Negative     12.5  1420.166667\n",
       "         Positive     12.5  1457.416667\n",
       "Positive Negative     12.5  1428.041667\n",
       "         Positive     12.5   593.333333"
      ]
     },
     "execution_count": 63,
     "metadata": {},
     "output_type": "execute_result"
    }
   ],
   "source": [
    "group_means = grouped_data.mean()\n",
    "pd.DataFrame(group_means)"
   ]
  },
  {
   "cell_type": "markdown",
   "id": "wooden-appendix",
   "metadata": {},
   "source": [
    "We need to reset the grouping in the data frame above so that we can use it in our plot. We do that using the `reset_index()` method."
   ]
  },
  {
   "cell_type": "code",
   "execution_count": 64,
   "id": "short-excuse",
   "metadata": {},
   "outputs": [
    {
     "data": {
      "text/html": [
       "<div>\n",
       "<style scoped>\n",
       "    .dataframe tbody tr th:only-of-type {\n",
       "        vertical-align: middle;\n",
       "    }\n",
       "\n",
       "    .dataframe tbody tr th {\n",
       "        vertical-align: top;\n",
       "    }\n",
       "\n",
       "    .dataframe thead th {\n",
       "        text-align: right;\n",
       "    }\n",
       "</style>\n",
       "<table border=\"1\" class=\"dataframe\">\n",
       "  <thead>\n",
       "    <tr style=\"text-align: right;\">\n",
       "      <th></th>\n",
       "      <th>Prime</th>\n",
       "      <th>Target</th>\n",
       "      <th>Subject</th>\n",
       "      <th>RT</th>\n",
       "    </tr>\n",
       "  </thead>\n",
       "  <tbody>\n",
       "    <tr>\n",
       "      <th>0</th>\n",
       "      <td>Negative</td>\n",
       "      <td>Negative</td>\n",
       "      <td>12.5</td>\n",
       "      <td>1420.166667</td>\n",
       "    </tr>\n",
       "    <tr>\n",
       "      <th>1</th>\n",
       "      <td>Negative</td>\n",
       "      <td>Positive</td>\n",
       "      <td>12.5</td>\n",
       "      <td>1457.416667</td>\n",
       "    </tr>\n",
       "    <tr>\n",
       "      <th>2</th>\n",
       "      <td>Positive</td>\n",
       "      <td>Negative</td>\n",
       "      <td>12.5</td>\n",
       "      <td>1428.041667</td>\n",
       "    </tr>\n",
       "    <tr>\n",
       "      <th>3</th>\n",
       "      <td>Positive</td>\n",
       "      <td>Positive</td>\n",
       "      <td>12.5</td>\n",
       "      <td>593.333333</td>\n",
       "    </tr>\n",
       "  </tbody>\n",
       "</table>\n",
       "</div>"
      ],
      "text/plain": [
       "      Prime    Target  Subject           RT\n",
       "0  Negative  Negative     12.5  1420.166667\n",
       "1  Negative  Positive     12.5  1457.416667\n",
       "2  Positive  Negative     12.5  1428.041667\n",
       "3  Positive  Positive     12.5   593.333333"
      ]
     },
     "execution_count": 64,
     "metadata": {},
     "output_type": "execute_result"
    }
   ],
   "source": [
    "data_to_plot = pd.DataFrame(group_means).reset_index()\n",
    "data_to_plot"
   ]
  },
  {
   "cell_type": "markdown",
   "id": "statutory-polls",
   "metadata": {},
   "source": [
    "The above now looks much more like a standard data frame. Below we created an interaction plot using the `interaction_plot` function. We specify the various aesthetics of the plot, add labels, and then display the plot. If we wanted to save it we would use the `plt.savefig` function. This will save the plot using the file path we provide as an argument to the function."
   ]
  },
  {
   "cell_type": "code",
   "execution_count": 65,
   "id": "abandoned-bandwidth",
   "metadata": {},
   "outputs": [
    {
     "data": {
      "image/png": "[encoded data removed]",
      "text/plain": [
       "<Figure size 432x288 with 1 Axes>"
      ]
     },
     "metadata": {},
     "output_type": "display_data"
    }
   ],
   "source": [
    "my_interaction_plot = interaction_plot(x=data_to_plot['Target'], trace=data_to_plot['Prime'], \n",
    "                                       response=data_to_plot['RT'], colors=['red', 'blue'], \n",
    "                                       markers=['D', '^'])\n",
    "plt.xlabel('Target')\n",
    "plt.ylabel('RT (ms.)')\n",
    "plt.title('Reaction Times to Target Type as a Function of Prime Type')\n",
    "plt.ylim(0)\n",
    "plt.margins(.5, 1)"
   ]
  },
  {
   "cell_type": "markdown",
   "id": "chinese-sessions",
   "metadata": {},
   "source": [
    "To build the factorial ANOVA model, we use the `AnovaRM` function from the `statsmodels` library. We need to specify our outcome variable (`RT`), our grouping variable (this is our random effect) plus our within participant effects. "
   ]
  },
  {
   "cell_type": "code",
   "execution_count": 317,
   "id": "distant-allen",
   "metadata": {},
   "outputs": [],
   "source": [
    "from statsmodels.stats.anova import AnovaRM"
   ]
  },
  {
   "cell_type": "code",
   "execution_count": 318,
   "id": "virtual-intersection",
   "metadata": {},
   "outputs": [
    {
     "name": "stdout",
     "output_type": "stream",
     "text": [
      "                   Anova\n",
      "===========================================\n",
      "             F Value  Num DF  Den DF Pr > F\n",
      "-------------------------------------------\n",
      "Prime        471.4807 1.0000 23.0000 0.0000\n",
      "Target       276.8183 1.0000 23.0000 0.0000\n",
      "Prime:Target 284.8948 1.0000 23.0000 0.0000\n",
      "===========================================\n",
      "\n"
     ]
    }
   ],
   "source": [
    "factorial_model = AnovaRM(data=factorial_anova_data, depvar='RT', within=['Prime', 'Target'], subject='Subject').fit()\n",
    "\n",
    "print(factorial_model)"
   ]
  },
  {
   "cell_type": "markdown",
   "id": "refined-brook",
   "metadata": {},
   "source": [
    "We can also use this function to build ANOVAs with between participant factors. We just need to specifiy those with the parameter `betweeen` much in the same way we have done above with `within`. We see from the above that both main effects, plus the interaction are significant at p < .001. In order to interpret the interaction, we need to conduct pairwise comparisions. There are 2 key comparisons that will tell us where we have a priming effect. The first is comparining RTs to Positive Targets for Positive vs. Negative Primes, and the second is comparing RTs to Negative Targets following Positive vs. Negative Primes. We can effectively run these comparisons as *t*-tests and adopt a critical alpha level of .025 to control for the familywise error associated with running the two key tests.\n",
    "\n",
    "One way to run the *t*-tests is to filter our data frame and create new variables for each of the condition combinations we want to compare. In the code below, we create a boolean index (i.e., True and False values) corresponding to cases where the Prime AND the Target are both Positive. We then apply this logical index to the data frame and map the `RT` column of that filtered data frame onto a new variable called `PP`. "
   ]
  },
  {
   "cell_type": "code",
   "execution_count": 66,
   "id": "manual-pittsburgh",
   "metadata": {},
   "outputs": [],
   "source": [
    "index = (factorial_anova_data['Prime']=='Positive') & (factorial_anova_data['Target']=='Positive')\n",
    "PP = factorial_anova_data[index]['RT']"
   ]
  },
  {
   "cell_type": "markdown",
   "id": "younger-significance",
   "metadata": {},
   "source": [
    "We then do the same for cases where the Prime is Negative and the Target is Positive. "
   ]
  },
  {
   "cell_type": "code",
   "execution_count": 67,
   "id": "comic-market",
   "metadata": {},
   "outputs": [],
   "source": [
    "index = (factorial_anova_data['Prime']=='Negative') &(factorial_anova_data['Target']=='Positive')\n",
    "NP = factorial_anova_data[index]['RT']"
   ]
  },
  {
   "cell_type": "markdown",
   "id": "quick-basket",
   "metadata": {},
   "source": [
    "We can now run a *t*-test using the `stats.ttest_rel` function for paired samples *t*-tests."
   ]
  },
  {
   "cell_type": "code",
   "execution_count": 68,
   "id": "dated-reset",
   "metadata": {},
   "outputs": [
    {
     "data": {
      "text/plain": [
       "Ttest_relResult(statistic=-32.00158210315536, pvalue=1.41511213896552e-20)"
      ]
     },
     "execution_count": 68,
     "metadata": {},
     "output_type": "execute_result"
    }
   ],
   "source": [
    "stats.ttest_rel(PP, NP)"
   ]
  },
  {
   "cell_type": "markdown",
   "id": "oriental-excitement",
   "metadata": {},
   "source": [
    "We can see that this comparison is significant. Your challenge now is to write the code for the other comparison - in other words, comparing RTs to Negative Targets following Positive vs. Negative Primes."
   ]
  },
  {
   "cell_type": "markdown",
   "id": "requested-hacker",
   "metadata": {},
   "source": [
    "```{admonition} Click the button to reveal answer\n",
    ":class: dropdown \n",
    "    index = (factorial_anova_data['Prime']=='Positive') & (factorial_anova_data['Target']=='Negative')\n",
    "    PN = factorial_anova_data[index]['RT'] \n",
    "\n",
    "    index = (factorial_anova_data['Prime']=='Negative') & (factorial_anova_data['Target']=='Negative')\n",
    "    NN = factorial_anova_data[index]['RT']\n",
    "\n",
    "    stats.ttest_rel(PN, NN) \n",
    "```"
   ]
  },
  {
   "cell_type": "markdown",
   "id": "equivalent-suite",
   "metadata": {},
   "source": [
    "The following will be a group-based activity which you will do in class.\n",
    "\n",
    "You need to build a new factorial ANOVA for the following experiment. The data in the file https://raw.githubusercontent.com/ajstewartlang/02_intro_to_python_programming/main/data/ANOVA_challenge.csv are from a 2 x 2 repeated measures design. 148 participants responded to a target image that was either positive or negative in valence. The target was preceded by a prime that was either also positive or negative in valence. We want to determine whether people responded faster to positive images following a positive prime (relative to following a negative prime),\n",
    "and faster to negative images following a negative prime (relative to following a positive prime). Visualise the data and report the key descriptives before then running the appropriate ANOVA."
   ]
  },
  {
   "cell_type": "markdown",
   "id": "worst-diploma",
   "metadata": {},
   "source": [
    "## Regression\n",
    "\n",
    "As you may recall, ANOVA and regression are both cases of the General Linear Model in action. Let's turn now to regression. We're going to start by using the dataset called `crime_dataset.csv` - this dataset contains population data, housing price index data and crime data for cities in the US."
   ]
  },
  {
   "cell_type": "code",
   "execution_count": 103,
   "id": "silver-bench",
   "metadata": {},
   "outputs": [],
   "source": [
    "crime_data = pd.read_csv(\"https://raw.githubusercontent.com/ajstewartlang/09_glm_regression_pt1/master/data/crime_dataset.csv\")"
   ]
  },
  {
   "cell_type": "code",
   "execution_count": 104,
   "id": "better-nickel",
   "metadata": {},
   "outputs": [
    {
     "data": {
      "text/html": [
       "<div>\n",
       "<style scoped>\n",
       "    .dataframe tbody tr th:only-of-type {\n",
       "        vertical-align: middle;\n",
       "    }\n",
       "\n",
       "    .dataframe tbody tr th {\n",
       "        vertical-align: top;\n",
       "    }\n",
       "\n",
       "    .dataframe thead th {\n",
       "        text-align: right;\n",
       "    }\n",
       "</style>\n",
       "<table border=\"1\" class=\"dataframe\">\n",
       "  <thead>\n",
       "    <tr style=\"text-align: right;\">\n",
       "      <th></th>\n",
       "      <th>Year</th>\n",
       "      <th>index_nsa</th>\n",
       "      <th>City, State</th>\n",
       "      <th>Population</th>\n",
       "      <th>Violent Crimes</th>\n",
       "      <th>Homicides</th>\n",
       "      <th>Rapes</th>\n",
       "      <th>Assaults</th>\n",
       "      <th>Robberies</th>\n",
       "    </tr>\n",
       "  </thead>\n",
       "  <tbody>\n",
       "    <tr>\n",
       "      <th>0</th>\n",
       "      <td>1975.0</td>\n",
       "      <td>41.080</td>\n",
       "      <td>Atlanta, GA</td>\n",
       "      <td>490584.0</td>\n",
       "      <td>8033.0</td>\n",
       "      <td>185.0</td>\n",
       "      <td>443.0</td>\n",
       "      <td>3518.0</td>\n",
       "      <td>3887.0</td>\n",
       "    </tr>\n",
       "    <tr>\n",
       "      <th>1</th>\n",
       "      <td>1975.0</td>\n",
       "      <td>30.750</td>\n",
       "      <td>Chicago, IL</td>\n",
       "      <td>3150000.0</td>\n",
       "      <td>37160.0</td>\n",
       "      <td>818.0</td>\n",
       "      <td>1657.0</td>\n",
       "      <td>12514.0</td>\n",
       "      <td>22171.0</td>\n",
       "    </tr>\n",
       "    <tr>\n",
       "      <th>2</th>\n",
       "      <td>1975.0</td>\n",
       "      <td>36.350</td>\n",
       "      <td>Cleveland, OH</td>\n",
       "      <td>659931.0</td>\n",
       "      <td>10403.0</td>\n",
       "      <td>288.0</td>\n",
       "      <td>491.0</td>\n",
       "      <td>2524.0</td>\n",
       "      <td>7100.0</td>\n",
       "    </tr>\n",
       "    <tr>\n",
       "      <th>3</th>\n",
       "      <td>1975.0</td>\n",
       "      <td>20.910</td>\n",
       "      <td>Oakland, CA</td>\n",
       "      <td>337748.0</td>\n",
       "      <td>5900.0</td>\n",
       "      <td>111.0</td>\n",
       "      <td>316.0</td>\n",
       "      <td>2288.0</td>\n",
       "      <td>3185.0</td>\n",
       "    </tr>\n",
       "    <tr>\n",
       "      <th>4</th>\n",
       "      <td>1975.0</td>\n",
       "      <td>20.385</td>\n",
       "      <td>Seattle, WA</td>\n",
       "      <td>503500.0</td>\n",
       "      <td>3971.0</td>\n",
       "      <td>52.0</td>\n",
       "      <td>324.0</td>\n",
       "      <td>1492.0</td>\n",
       "      <td>2103.0</td>\n",
       "    </tr>\n",
       "  </tbody>\n",
       "</table>\n",
       "</div>"
      ],
      "text/plain": [
       "     Year  index_nsa    City, State  Population  Violent Crimes  Homicides  \\\n",
       "0  1975.0     41.080    Atlanta, GA    490584.0          8033.0      185.0   \n",
       "1  1975.0     30.750    Chicago, IL   3150000.0         37160.0      818.0   \n",
       "2  1975.0     36.350  Cleveland, OH    659931.0         10403.0      288.0   \n",
       "3  1975.0     20.910    Oakland, CA    337748.0          5900.0      111.0   \n",
       "4  1975.0     20.385    Seattle, WA    503500.0          3971.0       52.0   \n",
       "\n",
       "    Rapes  Assaults  Robberies  \n",
       "0   443.0    3518.0     3887.0  \n",
       "1  1657.0   12514.0    22171.0  \n",
       "2   491.0    2524.0     7100.0  \n",
       "3   316.0    2288.0     3185.0  \n",
       "4   324.0    1492.0     2103.0  "
      ]
     },
     "execution_count": 104,
     "metadata": {},
     "output_type": "execute_result"
    }
   ],
   "source": [
    "crime_data.head()"
   ]
  },
  {
   "cell_type": "markdown",
   "id": "southern-hepatitis",
   "metadata": {},
   "source": [
    "First let’s do some wrangling. There is one column that combines both City and State information. Let’s separate that information out into two new columns called 'City' and 'State'. We first need to rename the column `City, State` to `City_State` in order to get rid of the space."
   ]
  },
  {
   "cell_type": "code",
   "execution_count": 105,
   "id": "moved-vanilla",
   "metadata": {},
   "outputs": [],
   "source": [
    "crime_data.rename(columns={'City, State':'City_State'}, inplace=True)"
   ]
  },
  {
   "cell_type": "markdown",
   "id": "automatic-village",
   "metadata": {},
   "source": [
    "We then split the colunm `City_State` into two columns, the first called `City` and the second called `State`."
   ]
  },
  {
   "cell_type": "code",
   "execution_count": 106,
   "id": "passive-excellence",
   "metadata": {},
   "outputs": [],
   "source": [
    "crime_data[['City','State']] = crime_data.City_State.str.split(expand=True,)"
   ]
  },
  {
   "cell_type": "markdown",
   "id": "naughty-score",
   "metadata": {},
   "source": [
    "We can then drop the original column `City_State`."
   ]
  },
  {
   "cell_type": "code",
   "execution_count": 107,
   "id": "prescribed-valley",
   "metadata": {},
   "outputs": [
    {
     "data": {
      "text/html": [
       "<div>\n",
       "<style scoped>\n",
       "    .dataframe tbody tr th:only-of-type {\n",
       "        vertical-align: middle;\n",
       "    }\n",
       "\n",
       "    .dataframe tbody tr th {\n",
       "        vertical-align: top;\n",
       "    }\n",
       "\n",
       "    .dataframe thead th {\n",
       "        text-align: right;\n",
       "    }\n",
       "</style>\n",
       "<table border=\"1\" class=\"dataframe\">\n",
       "  <thead>\n",
       "    <tr style=\"text-align: right;\">\n",
       "      <th></th>\n",
       "      <th>Year</th>\n",
       "      <th>index_nsa</th>\n",
       "      <th>Population</th>\n",
       "      <th>Violent Crimes</th>\n",
       "      <th>Homicides</th>\n",
       "      <th>Rapes</th>\n",
       "      <th>Assaults</th>\n",
       "      <th>Robberies</th>\n",
       "      <th>City</th>\n",
       "      <th>State</th>\n",
       "    </tr>\n",
       "  </thead>\n",
       "  <tbody>\n",
       "    <tr>\n",
       "      <th>0</th>\n",
       "      <td>1975.0</td>\n",
       "      <td>41.080000</td>\n",
       "      <td>490584.0</td>\n",
       "      <td>8033.0</td>\n",
       "      <td>185.0</td>\n",
       "      <td>443.0</td>\n",
       "      <td>3518.0</td>\n",
       "      <td>3887.0</td>\n",
       "      <td>Atlanta,</td>\n",
       "      <td>GA</td>\n",
       "    </tr>\n",
       "    <tr>\n",
       "      <th>1</th>\n",
       "      <td>1975.0</td>\n",
       "      <td>30.750000</td>\n",
       "      <td>3150000.0</td>\n",
       "      <td>37160.0</td>\n",
       "      <td>818.0</td>\n",
       "      <td>1657.0</td>\n",
       "      <td>12514.0</td>\n",
       "      <td>22171.0</td>\n",
       "      <td>Chicago,</td>\n",
       "      <td>IL</td>\n",
       "    </tr>\n",
       "    <tr>\n",
       "      <th>2</th>\n",
       "      <td>1975.0</td>\n",
       "      <td>36.350000</td>\n",
       "      <td>659931.0</td>\n",
       "      <td>10403.0</td>\n",
       "      <td>288.0</td>\n",
       "      <td>491.0</td>\n",
       "      <td>2524.0</td>\n",
       "      <td>7100.0</td>\n",
       "      <td>Cleveland,</td>\n",
       "      <td>OH</td>\n",
       "    </tr>\n",
       "    <tr>\n",
       "      <th>3</th>\n",
       "      <td>1975.0</td>\n",
       "      <td>20.910000</td>\n",
       "      <td>337748.0</td>\n",
       "      <td>5900.0</td>\n",
       "      <td>111.0</td>\n",
       "      <td>316.0</td>\n",
       "      <td>2288.0</td>\n",
       "      <td>3185.0</td>\n",
       "      <td>Oakland,</td>\n",
       "      <td>CA</td>\n",
       "    </tr>\n",
       "    <tr>\n",
       "      <th>4</th>\n",
       "      <td>1975.0</td>\n",
       "      <td>20.385000</td>\n",
       "      <td>503500.0</td>\n",
       "      <td>3971.0</td>\n",
       "      <td>52.0</td>\n",
       "      <td>324.0</td>\n",
       "      <td>1492.0</td>\n",
       "      <td>2103.0</td>\n",
       "      <td>Seattle,</td>\n",
       "      <td>WA</td>\n",
       "    </tr>\n",
       "    <tr>\n",
       "      <th>...</th>\n",
       "      <td>...</td>\n",
       "      <td>...</td>\n",
       "      <td>...</td>\n",
       "      <td>...</td>\n",
       "      <td>...</td>\n",
       "      <td>...</td>\n",
       "      <td>...</td>\n",
       "      <td>...</td>\n",
       "      <td>...</td>\n",
       "      <td>...</td>\n",
       "    </tr>\n",
       "    <tr>\n",
       "      <th>3472</th>\n",
       "      <td>2015.0</td>\n",
       "      <td>194.641250</td>\n",
       "      <td>401520.0</td>\n",
       "      <td>3628.0</td>\n",
       "      <td>55.0</td>\n",
       "      <td>365.0</td>\n",
       "      <td>2354.0</td>\n",
       "      <td>854.0</td>\n",
       "      <td>Tulsa,</td>\n",
       "      <td>OK</td>\n",
       "    </tr>\n",
       "    <tr>\n",
       "      <th>3473</th>\n",
       "      <td>NaN</td>\n",
       "      <td>NaN</td>\n",
       "      <td>NaN</td>\n",
       "      <td>NaN</td>\n",
       "      <td>NaN</td>\n",
       "      <td>NaN</td>\n",
       "      <td>NaN</td>\n",
       "      <td>NaN</td>\n",
       "      <td>NaN</td>\n",
       "      <td>NaN</td>\n",
       "    </tr>\n",
       "    <tr>\n",
       "      <th>3474</th>\n",
       "      <td>2015.0</td>\n",
       "      <td>248.035833</td>\n",
       "      <td>672228.0</td>\n",
       "      <td>8084.0</td>\n",
       "      <td>162.0</td>\n",
       "      <td>494.0</td>\n",
       "      <td>4024.0</td>\n",
       "      <td>3404.0</td>\n",
       "      <td>Washington,</td>\n",
       "      <td>DC</td>\n",
       "    </tr>\n",
       "    <tr>\n",
       "      <th>3475</th>\n",
       "      <td>NaN</td>\n",
       "      <td>NaN</td>\n",
       "      <td>NaN</td>\n",
       "      <td>NaN</td>\n",
       "      <td>NaN</td>\n",
       "      <td>NaN</td>\n",
       "      <td>NaN</td>\n",
       "      <td>NaN</td>\n",
       "      <td>NaN</td>\n",
       "      <td>NaN</td>\n",
       "    </tr>\n",
       "    <tr>\n",
       "      <th>3476</th>\n",
       "      <td>2015.0</td>\n",
       "      <td>176.280000</td>\n",
       "      <td>389824.0</td>\n",
       "      <td>3839.0</td>\n",
       "      <td>27.0</td>\n",
       "      <td>349.0</td>\n",
       "      <td>2730.0</td>\n",
       "      <td>733.0</td>\n",
       "      <td>Wichita,</td>\n",
       "      <td>KS</td>\n",
       "    </tr>\n",
       "  </tbody>\n",
       "</table>\n",
       "<p>3477 rows × 10 columns</p>\n",
       "</div>"
      ],
      "text/plain": [
       "        Year   index_nsa  Population  Violent Crimes  Homicides   Rapes  \\\n",
       "0     1975.0   41.080000    490584.0          8033.0      185.0   443.0   \n",
       "1     1975.0   30.750000   3150000.0         37160.0      818.0  1657.0   \n",
       "2     1975.0   36.350000    659931.0         10403.0      288.0   491.0   \n",
       "3     1975.0   20.910000    337748.0          5900.0      111.0   316.0   \n",
       "4     1975.0   20.385000    503500.0          3971.0       52.0   324.0   \n",
       "...      ...         ...         ...             ...        ...     ...   \n",
       "3472  2015.0  194.641250    401520.0          3628.0       55.0   365.0   \n",
       "3473     NaN         NaN         NaN             NaN        NaN     NaN   \n",
       "3474  2015.0  248.035833    672228.0          8084.0      162.0   494.0   \n",
       "3475     NaN         NaN         NaN             NaN        NaN     NaN   \n",
       "3476  2015.0  176.280000    389824.0          3839.0       27.0   349.0   \n",
       "\n",
       "      Assaults  Robberies         City State  \n",
       "0       3518.0     3887.0     Atlanta,    GA  \n",
       "1      12514.0    22171.0     Chicago,    IL  \n",
       "2       2524.0     7100.0   Cleveland,    OH  \n",
       "3       2288.0     3185.0     Oakland,    CA  \n",
       "4       1492.0     2103.0     Seattle,    WA  \n",
       "...        ...        ...          ...   ...  \n",
       "3472    2354.0      854.0       Tulsa,    OK  \n",
       "3473       NaN        NaN          NaN   NaN  \n",
       "3474    4024.0     3404.0  Washington,    DC  \n",
       "3475       NaN        NaN          NaN   NaN  \n",
       "3476    2730.0      733.0     Wichita,    KS  \n",
       "\n",
       "[3477 rows x 10 columns]"
      ]
     },
     "execution_count": 107,
     "metadata": {},
     "output_type": "execute_result"
    }
   ],
   "source": [
    "crime_data.drop('City_State', axis=1)"
   ]
  },
  {
   "cell_type": "code",
   "execution_count": 108,
   "id": "rising-arizona",
   "metadata": {},
   "outputs": [
    {
     "data": {
      "text/html": [
       "<div>\n",
       "<style scoped>\n",
       "    .dataframe tbody tr th:only-of-type {\n",
       "        vertical-align: middle;\n",
       "    }\n",
       "\n",
       "    .dataframe tbody tr th {\n",
       "        vertical-align: top;\n",
       "    }\n",
       "\n",
       "    .dataframe thead th {\n",
       "        text-align: right;\n",
       "    }\n",
       "</style>\n",
       "<table border=\"1\" class=\"dataframe\">\n",
       "  <thead>\n",
       "    <tr style=\"text-align: right;\">\n",
       "      <th></th>\n",
       "      <th>Year</th>\n",
       "      <th>index_nsa</th>\n",
       "      <th>City_State</th>\n",
       "      <th>Population</th>\n",
       "      <th>Violent Crimes</th>\n",
       "      <th>Homicides</th>\n",
       "      <th>Rapes</th>\n",
       "      <th>Assaults</th>\n",
       "      <th>Robberies</th>\n",
       "      <th>City</th>\n",
       "      <th>State</th>\n",
       "    </tr>\n",
       "  </thead>\n",
       "  <tbody>\n",
       "    <tr>\n",
       "      <th>0</th>\n",
       "      <td>1975.0</td>\n",
       "      <td>41.080</td>\n",
       "      <td>Atlanta, GA</td>\n",
       "      <td>490584.0</td>\n",
       "      <td>8033.0</td>\n",
       "      <td>185.0</td>\n",
       "      <td>443.0</td>\n",
       "      <td>3518.0</td>\n",
       "      <td>3887.0</td>\n",
       "      <td>Atlanta,</td>\n",
       "      <td>GA</td>\n",
       "    </tr>\n",
       "    <tr>\n",
       "      <th>1</th>\n",
       "      <td>1975.0</td>\n",
       "      <td>30.750</td>\n",
       "      <td>Chicago, IL</td>\n",
       "      <td>3150000.0</td>\n",
       "      <td>37160.0</td>\n",
       "      <td>818.0</td>\n",
       "      <td>1657.0</td>\n",
       "      <td>12514.0</td>\n",
       "      <td>22171.0</td>\n",
       "      <td>Chicago,</td>\n",
       "      <td>IL</td>\n",
       "    </tr>\n",
       "    <tr>\n",
       "      <th>2</th>\n",
       "      <td>1975.0</td>\n",
       "      <td>36.350</td>\n",
       "      <td>Cleveland, OH</td>\n",
       "      <td>659931.0</td>\n",
       "      <td>10403.0</td>\n",
       "      <td>288.0</td>\n",
       "      <td>491.0</td>\n",
       "      <td>2524.0</td>\n",
       "      <td>7100.0</td>\n",
       "      <td>Cleveland,</td>\n",
       "      <td>OH</td>\n",
       "    </tr>\n",
       "    <tr>\n",
       "      <th>3</th>\n",
       "      <td>1975.0</td>\n",
       "      <td>20.910</td>\n",
       "      <td>Oakland, CA</td>\n",
       "      <td>337748.0</td>\n",
       "      <td>5900.0</td>\n",
       "      <td>111.0</td>\n",
       "      <td>316.0</td>\n",
       "      <td>2288.0</td>\n",
       "      <td>3185.0</td>\n",
       "      <td>Oakland,</td>\n",
       "      <td>CA</td>\n",
       "    </tr>\n",
       "    <tr>\n",
       "      <th>4</th>\n",
       "      <td>1975.0</td>\n",
       "      <td>20.385</td>\n",
       "      <td>Seattle, WA</td>\n",
       "      <td>503500.0</td>\n",
       "      <td>3971.0</td>\n",
       "      <td>52.0</td>\n",
       "      <td>324.0</td>\n",
       "      <td>1492.0</td>\n",
       "      <td>2103.0</td>\n",
       "      <td>Seattle,</td>\n",
       "      <td>WA</td>\n",
       "    </tr>\n",
       "  </tbody>\n",
       "</table>\n",
       "</div>"
      ],
      "text/plain": [
       "     Year  index_nsa     City_State  Population  Violent Crimes  Homicides  \\\n",
       "0  1975.0     41.080    Atlanta, GA    490584.0          8033.0      185.0   \n",
       "1  1975.0     30.750    Chicago, IL   3150000.0         37160.0      818.0   \n",
       "2  1975.0     36.350  Cleveland, OH    659931.0         10403.0      288.0   \n",
       "3  1975.0     20.910    Oakland, CA    337748.0          5900.0      111.0   \n",
       "4  1975.0     20.385    Seattle, WA    503500.0          3971.0       52.0   \n",
       "\n",
       "    Rapes  Assaults  Robberies        City State  \n",
       "0   443.0    3518.0     3887.0    Atlanta,    GA  \n",
       "1  1657.0   12514.0    22171.0    Chicago,    IL  \n",
       "2   491.0    2524.0     7100.0  Cleveland,    OH  \n",
       "3   316.0    2288.0     3185.0    Oakland,    CA  \n",
       "4   324.0    1492.0     2103.0    Seattle,    WA  "
      ]
     },
     "execution_count": 108,
     "metadata": {},
     "output_type": "execute_result"
    }
   ],
   "source": [
    "crime_data.head()"
   ]
  },
  {
   "cell_type": "markdown",
   "id": "presidential-conviction",
   "metadata": {},
   "source": [
    "We also need to get rid of the space in the `Violent Crimes` column and rename the column `index_nsa` as `house_prices`. We are first going to set a dictionary, called a `dict` which contains the old names and the new names of the columns that we want to rename."
   ]
  },
  {
   "cell_type": "code",
   "execution_count": 119,
   "id": "becoming-catholic",
   "metadata": {},
   "outputs": [],
   "source": [
    "dict = {'Violent Crimes':'Violent_Crimes', 'index_nsa':'house_prices'}\n",
    "\n",
    "crime_data.rename(columns=dict, inplace=True)"
   ]
  },
  {
   "cell_type": "code",
   "execution_count": 120,
   "id": "empirical-minnesota",
   "metadata": {},
   "outputs": [
    {
     "data": {
      "text/html": [
       "<div>\n",
       "<style scoped>\n",
       "    .dataframe tbody tr th:only-of-type {\n",
       "        vertical-align: middle;\n",
       "    }\n",
       "\n",
       "    .dataframe tbody tr th {\n",
       "        vertical-align: top;\n",
       "    }\n",
       "\n",
       "    .dataframe thead th {\n",
       "        text-align: right;\n",
       "    }\n",
       "</style>\n",
       "<table border=\"1\" class=\"dataframe\">\n",
       "  <thead>\n",
       "    <tr style=\"text-align: right;\">\n",
       "      <th></th>\n",
       "      <th>Year</th>\n",
       "      <th>house_prices</th>\n",
       "      <th>City_State</th>\n",
       "      <th>Population</th>\n",
       "      <th>Violent_Crimes</th>\n",
       "      <th>Homicides</th>\n",
       "      <th>Rapes</th>\n",
       "      <th>Assaults</th>\n",
       "      <th>Robberies</th>\n",
       "      <th>City</th>\n",
       "      <th>State</th>\n",
       "    </tr>\n",
       "  </thead>\n",
       "  <tbody>\n",
       "    <tr>\n",
       "      <th>0</th>\n",
       "      <td>1975.0</td>\n",
       "      <td>41.080</td>\n",
       "      <td>Atlanta, GA</td>\n",
       "      <td>490584.0</td>\n",
       "      <td>8033.0</td>\n",
       "      <td>185.0</td>\n",
       "      <td>443.0</td>\n",
       "      <td>3518.0</td>\n",
       "      <td>3887.0</td>\n",
       "      <td>Atlanta,</td>\n",
       "      <td>GA</td>\n",
       "    </tr>\n",
       "    <tr>\n",
       "      <th>1</th>\n",
       "      <td>1975.0</td>\n",
       "      <td>30.750</td>\n",
       "      <td>Chicago, IL</td>\n",
       "      <td>3150000.0</td>\n",
       "      <td>37160.0</td>\n",
       "      <td>818.0</td>\n",
       "      <td>1657.0</td>\n",
       "      <td>12514.0</td>\n",
       "      <td>22171.0</td>\n",
       "      <td>Chicago,</td>\n",
       "      <td>IL</td>\n",
       "    </tr>\n",
       "    <tr>\n",
       "      <th>2</th>\n",
       "      <td>1975.0</td>\n",
       "      <td>36.350</td>\n",
       "      <td>Cleveland, OH</td>\n",
       "      <td>659931.0</td>\n",
       "      <td>10403.0</td>\n",
       "      <td>288.0</td>\n",
       "      <td>491.0</td>\n",
       "      <td>2524.0</td>\n",
       "      <td>7100.0</td>\n",
       "      <td>Cleveland,</td>\n",
       "      <td>OH</td>\n",
       "    </tr>\n",
       "    <tr>\n",
       "      <th>3</th>\n",
       "      <td>1975.0</td>\n",
       "      <td>20.910</td>\n",
       "      <td>Oakland, CA</td>\n",
       "      <td>337748.0</td>\n",
       "      <td>5900.0</td>\n",
       "      <td>111.0</td>\n",
       "      <td>316.0</td>\n",
       "      <td>2288.0</td>\n",
       "      <td>3185.0</td>\n",
       "      <td>Oakland,</td>\n",
       "      <td>CA</td>\n",
       "    </tr>\n",
       "    <tr>\n",
       "      <th>4</th>\n",
       "      <td>1975.0</td>\n",
       "      <td>20.385</td>\n",
       "      <td>Seattle, WA</td>\n",
       "      <td>503500.0</td>\n",
       "      <td>3971.0</td>\n",
       "      <td>52.0</td>\n",
       "      <td>324.0</td>\n",
       "      <td>1492.0</td>\n",
       "      <td>2103.0</td>\n",
       "      <td>Seattle,</td>\n",
       "      <td>WA</td>\n",
       "    </tr>\n",
       "  </tbody>\n",
       "</table>\n",
       "</div>"
      ],
      "text/plain": [
       "     Year  house_prices     City_State  Population  Violent_Crimes  Homicides  \\\n",
       "0  1975.0        41.080    Atlanta, GA    490584.0          8033.0      185.0   \n",
       "1  1975.0        30.750    Chicago, IL   3150000.0         37160.0      818.0   \n",
       "2  1975.0        36.350  Cleveland, OH    659931.0         10403.0      288.0   \n",
       "3  1975.0        20.910    Oakland, CA    337748.0          5900.0      111.0   \n",
       "4  1975.0        20.385    Seattle, WA    503500.0          3971.0       52.0   \n",
       "\n",
       "    Rapes  Assaults  Robberies        City State  \n",
       "0   443.0    3518.0     3887.0    Atlanta,    GA  \n",
       "1  1657.0   12514.0    22171.0    Chicago,    IL  \n",
       "2   491.0    2524.0     7100.0  Cleveland,    OH  \n",
       "3   316.0    2288.0     3185.0    Oakland,    CA  \n",
       "4   324.0    1492.0     2103.0    Seattle,    WA  "
      ]
     },
     "execution_count": 120,
     "metadata": {},
     "output_type": "execute_result"
    }
   ],
   "source": [
    "crime_data.head()"
   ]
  },
  {
   "cell_type": "markdown",
   "id": "aquatic-allen",
   "metadata": {},
   "source": [
    "Now let's plot our data to see the relationship between Violent Crimes and the Population attributes in our dataframe."
   ]
  },
  {
   "cell_type": "code",
   "execution_count": 125,
   "id": "cardiovascular-beatles",
   "metadata": {},
   "outputs": [
    {
     "data": {
      "image/png": "[encoded data removed]",
      "text/plain": [
       "<Figure size 432x288 with 1 Axes>"
      ]
     },
     "metadata": {},
     "output_type": "display_data"
    }
   ],
   "source": [
    "crime_data.plot(kind='scatter', x='Population', y='Violent_Crimes', alpha=0.2)\n",
    "plt.show()"
   ]
  },
  {
   "cell_type": "markdown",
   "id": "opposed-breed",
   "metadata": {},
   "source": [
    "So, it looks like there is a positive relationship between these two attributes. We can capture the strength of it by calculating Pearson's r. "
   ]
  },
  {
   "cell_type": "code",
   "execution_count": 141,
   "id": "relative-ability",
   "metadata": {},
   "outputs": [
    {
     "data": {
      "text/html": [
       "<div>\n",
       "<style scoped>\n",
       "    .dataframe tbody tr th:only-of-type {\n",
       "        vertical-align: middle;\n",
       "    }\n",
       "\n",
       "    .dataframe tbody tr th {\n",
       "        vertical-align: top;\n",
       "    }\n",
       "\n",
       "    .dataframe thead th {\n",
       "        text-align: right;\n",
       "    }\n",
       "</style>\n",
       "<table border=\"1\" class=\"dataframe\">\n",
       "  <thead>\n",
       "    <tr style=\"text-align: right;\">\n",
       "      <th></th>\n",
       "      <th>Population</th>\n",
       "      <th>Violent_Crimes</th>\n",
       "    </tr>\n",
       "  </thead>\n",
       "  <tbody>\n",
       "    <tr>\n",
       "      <th>Population</th>\n",
       "      <td>1.000000</td>\n",
       "      <td>0.808718</td>\n",
       "    </tr>\n",
       "    <tr>\n",
       "      <th>Violent_Crimes</th>\n",
       "      <td>0.808718</td>\n",
       "      <td>1.000000</td>\n",
       "    </tr>\n",
       "  </tbody>\n",
       "</table>\n",
       "</div>"
      ],
      "text/plain": [
       "                Population  Violent_Crimes\n",
       "Population        1.000000        0.808718\n",
       "Violent_Crimes    0.808718        1.000000"
      ]
     },
     "execution_count": 141,
     "metadata": {},
     "output_type": "execute_result"
    }
   ],
   "source": [
    "crime_data[{'Violent_Crimes', 'Population'}].corr(method='pearson')"
   ]
  },
  {
   "cell_type": "markdown",
   "id": "ceramic-adapter",
   "metadata": {},
   "source": [
    "We see from the above that there is a positive relationship (r=0.81)between population size and the rate of violent crime. From the plot, we might conclude that the relationship is being overly influenced by crime in a small number of very large cities (top right of the plot above). Let’s exclude cities with populations greater than 2,000,000"
   ]
  },
  {
   "cell_type": "code",
   "execution_count": 154,
   "id": "specific-wayne",
   "metadata": {},
   "outputs": [],
   "source": [
    "crime_data_filtered = crime_data[crime_data['Population'] < 2000000]"
   ]
  },
  {
   "cell_type": "code",
   "execution_count": 159,
   "id": "amateur-parallel",
   "metadata": {},
   "outputs": [
    {
     "data": {
      "image/png": "[encoded data removed]",
      "text/plain": [
       "<Figure size 432x288 with 1 Axes>"
      ]
     },
     "metadata": {},
     "output_type": "display_data"
    }
   ],
   "source": [
    "crime_data_filtered.plot(kind='scatter', x='Population', y='Violent_Crimes', alpha=0.5)\n",
    "plt.title('For Cities with Populations < 2,000,000')\n",
    "plt.show()"
   ]
  },
  {
   "cell_type": "markdown",
   "id": "thorough-winter",
   "metadata": {},
   "source": [
    "Now let's look at the correlation between Violent Crimes and Population size for cities with a population of less than 2,000,000."
   ]
  },
  {
   "cell_type": "code",
   "execution_count": 161,
   "id": "ranging-lounge",
   "metadata": {},
   "outputs": [
    {
     "data": {
      "text/html": [
       "<div>\n",
       "<style scoped>\n",
       "    .dataframe tbody tr th:only-of-type {\n",
       "        vertical-align: middle;\n",
       "    }\n",
       "\n",
       "    .dataframe tbody tr th {\n",
       "        vertical-align: top;\n",
       "    }\n",
       "\n",
       "    .dataframe thead th {\n",
       "        text-align: right;\n",
       "    }\n",
       "</style>\n",
       "<table border=\"1\" class=\"dataframe\">\n",
       "  <thead>\n",
       "    <tr style=\"text-align: right;\">\n",
       "      <th></th>\n",
       "      <th>Population</th>\n",
       "      <th>Violent_Crimes</th>\n",
       "    </tr>\n",
       "  </thead>\n",
       "  <tbody>\n",
       "    <tr>\n",
       "      <th>Population</th>\n",
       "      <td>1.00000</td>\n",
       "      <td>0.68638</td>\n",
       "    </tr>\n",
       "    <tr>\n",
       "      <th>Violent_Crimes</th>\n",
       "      <td>0.68638</td>\n",
       "      <td>1.00000</td>\n",
       "    </tr>\n",
       "  </tbody>\n",
       "</table>\n",
       "</div>"
      ],
      "text/plain": [
       "                Population  Violent_Crimes\n",
       "Population         1.00000         0.68638\n",
       "Violent_Crimes     0.68638         1.00000"
      ]
     },
     "execution_count": 161,
     "metadata": {},
     "output_type": "execute_result"
    }
   ],
   "source": [
    "crime_data_filtered[{'Violent_Crimes', 'Population'}].corr(method='pearson')"
   ]
  },
  {
   "cell_type": "markdown",
   "id": "female-development",
   "metadata": {},
   "source": [
    "It's still clearly there but a little weaker than on the full dataset."
   ]
  },
  {
   "cell_type": "markdown",
   "id": "regional-monkey",
   "metadata": {},
   "source": [
    "Let's focus just on the year 2015 and build a linear model to see how the number of violent crimes is prediction by the population size."
   ]
  },
  {
   "cell_type": "code",
   "execution_count": 172,
   "id": "wanted-richardson",
   "metadata": {},
   "outputs": [],
   "source": [
    "crime_data_2015 = crime_data_filtered[crime_data_filtered['Year'] == 2015]"
   ]
  },
  {
   "cell_type": "code",
   "execution_count": 205,
   "id": "polish-omaha",
   "metadata": {},
   "outputs": [
    {
     "data": {
      "image/png": "[encoded data removed]",
      "text/plain": [
       "<Figure size 432x288 with 1 Axes>"
      ]
     },
     "metadata": {},
     "output_type": "display_data"
    }
   ],
   "source": [
    "crime_data_2015.plot(kind='scatter', x='Population', y='Violent_Crimes', alpha=1)\n",
    "plt.title('For Cities with Populations < 2,000,000 in 2015')\n",
    "plt.show()"
   ]
  },
  {
   "cell_type": "code",
   "execution_count": 206,
   "id": "administrative-appraisal",
   "metadata": {},
   "outputs": [
    {
     "data": {
      "text/html": [
       "<div>\n",
       "<style scoped>\n",
       "    .dataframe tbody tr th:only-of-type {\n",
       "        vertical-align: middle;\n",
       "    }\n",
       "\n",
       "    .dataframe tbody tr th {\n",
       "        vertical-align: top;\n",
       "    }\n",
       "\n",
       "    .dataframe thead th {\n",
       "        text-align: right;\n",
       "    }\n",
       "</style>\n",
       "<table border=\"1\" class=\"dataframe\">\n",
       "  <thead>\n",
       "    <tr style=\"text-align: right;\">\n",
       "      <th></th>\n",
       "      <th>Population</th>\n",
       "      <th>Violent_Crimes</th>\n",
       "    </tr>\n",
       "  </thead>\n",
       "  <tbody>\n",
       "    <tr>\n",
       "      <th>Population</th>\n",
       "      <td>1.000000</td>\n",
       "      <td>0.649353</td>\n",
       "    </tr>\n",
       "    <tr>\n",
       "      <th>Violent_Crimes</th>\n",
       "      <td>0.649353</td>\n",
       "      <td>1.000000</td>\n",
       "    </tr>\n",
       "  </tbody>\n",
       "</table>\n",
       "</div>"
      ],
      "text/plain": [
       "                Population  Violent_Crimes\n",
       "Population        1.000000        0.649353\n",
       "Violent_Crimes    0.649353        1.000000"
      ]
     },
     "execution_count": 206,
     "metadata": {},
     "output_type": "execute_result"
    }
   ],
   "source": [
    "crime_data_2015[{'Violent_Crimes', 'Population'}].corr(method='pearson')"
   ]
  },
  {
   "cell_type": "markdown",
   "id": "greenhouse-calcium",
   "metadata": {},
   "source": [
    "We are going to build our model using `ols` from `statsmodels`"
   ]
  },
  {
   "cell_type": "code",
   "execution_count": 229,
   "id": "decimal-preliminary",
   "metadata": {},
   "outputs": [],
   "source": [
    "model = ols('Violent_Crimes ~ Population', data=crime_data_2015)\n",
    "results = model.fit()"
   ]
  },
  {
   "cell_type": "markdown",
   "id": "compressed-amount",
   "metadata": {},
   "source": [
    "We can print the parameters of our linear model using the `params` method on our model fit."
   ]
  },
  {
   "cell_type": "code",
   "execution_count": 230,
   "id": "voluntary-contamination",
   "metadata": {},
   "outputs": [
    {
     "data": {
      "text/plain": [
       "Intercept     944.333528\n",
       "Population      0.006963\n",
       "dtype: float64"
      ]
     },
     "execution_count": 230,
     "metadata": {},
     "output_type": "execute_result"
    }
   ],
   "source": [
    "results.params"
   ]
  },
  {
   "cell_type": "markdown",
   "id": "planned-opposition",
   "metadata": {},
   "source": [
    "We can check to see whether our predictor is significant by conducting a *t*-test on it."
   ]
  },
  {
   "cell_type": "code",
   "execution_count": 231,
   "id": "metropolitan-frame",
   "metadata": {},
   "outputs": [
    {
     "name": "stdout",
     "output_type": "stream",
     "text": [
      "                             Test for Constraints                             \n",
      "==============================================================================\n",
      "                 coef    std err          t      P>|t|      [0.025      0.975]\n",
      "------------------------------------------------------------------------------\n",
      "c0             0.0070      0.001      5.264      0.000       0.004       0.010\n",
      "==============================================================================\n"
     ]
    }
   ],
   "source": [
    "print(results.t_test([0, 1]))"
   ]
  },
  {
   "cell_type": "markdown",
   "id": "center-italic",
   "metadata": {},
   "source": [
    "Taking the above together, we see that population significantly predicts violent crimes. For every increase in population by 1, violent crimes increase by 0.006963. We can use this information to predict how many violent crimes might be expected if a city has a population of 1,000,000. For a city with a population of about a million, there will be about 7907 Violent Crimes. We calculate this by multiplying the estimate of our predictor (0.006963) by 1,000,000 and then adding the intercept (944.3). This gives us 7907.3 violent crimes."
   ]
  },
  {
   "cell_type": "markdown",
   "id": "direct-orleans",
   "metadata": {},
   "source": []
  }
 ],
 "metadata": {
  "kernelspec": {
   "display_name": "Python (data_science)",
   "language": "python",
   "name": "data_science"
  },
  "language_info": {
   "codemirror_mode": {
    "name": "ipython",
    "version": 3
   },
   "file_extension": ".py",
   "mimetype": "text/x-python",
   "name": "python",
   "nbconvert_exporter": "python",
   "pygments_lexer": "ipython3",
   "version": "3.9.4"
  }
 },
 "nbformat": 4,
 "nbformat_minor": 5
}
