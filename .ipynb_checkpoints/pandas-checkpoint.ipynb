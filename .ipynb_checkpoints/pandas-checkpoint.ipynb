{
 "cells": [
  {
   "cell_type": "markdown",
   "id": "academic-accreditation",
   "metadata": {},
   "source": [
    "# Pandas for Data Analysis"
   ]
  },
  {
   "cell_type": "markdown",
   "id": "amateur-workshop",
   "metadata": {},
   "source": [
    "In this third workshop we will focus on using the pandas library for data wrangling and analysis."
   ]
  },
  {
   "cell_type": "code",
   "execution_count": 2,
   "id": "patient-logic",
   "metadata": {
    "tags": [
     "hide-input"
    ]
   },
   "outputs": [
    {
     "data": {
      "text/html": [
       "<div style=\"text-align: center\">\n",
       "<iframe width=\"560\" height=\"315\" src=\"https://youtube.com/embed/HjF98JryayQ\" frameborder=\"0\" allowfullscreen></iframe>\n",
       "\n",
       "</div>\n"
      ],
      "text/plain": [
       "<IPython.core.display.HTML object>"
      ]
     },
     "metadata": {},
     "output_type": "display_data"
    }
   ],
   "source": [
    "%%HTML\n",
    "<div style=\"text-align: center\">\n",
    "<iframe width=\"560\" height=\"315\" src=\"https://youtube.com/embed/HjF98JryayQ\" frameborder=\"0\" allowfullscreen></iframe>\n",
    "\n",
    "</div>"
   ]
  },
  {
   "cell_type": "markdown",
   "id": "fluid-convergence",
   "metadata": {},
   "source": [
    "## Importing pandas"
   ]
  },
  {
   "cell_type": "markdown",
   "id": "hawaiian-verse",
   "metadata": {},
   "source": [
    "Fire up a Jupyter Notebook. In order to read in and then wrangle our data, the first thing we need to do once we've opened a new script in our `data_science` environment is to import the pandas library. You can read more about the library [here](https://pandas.pydata.org/)."
   ]
  },
  {
   "cell_type": "code",
   "execution_count": 3,
   "id": "swiss-portugal",
   "metadata": {},
   "outputs": [],
   "source": [
    "import pandas as pd"
   ]
  },
  {
   "cell_type": "markdown",
   "id": "green-madrid",
   "metadata": {},
   "source": [
    "We'll start by reading in some data using the pandas function `pd.read_csv`. The data are available via the http address below. This is the same data file that we looked at in the R workshop on ANOVA. \n",
    "\n",
    "24 participants responded to a word that was either common (i.e., high lexical frequency) or rare (i.e., low lexical frequency). This is our IV and is coded as ‘high’ vs. low’. Our DV is reaction time and is coded as ‘RT’. Subject number is coded as ‘Subject’. We want to know whether there is a difference between conditions (and if so, where that difference lies). \n",
    "\n",
    "We need to visualise the data, generate descriptives, and run the appropriate ANOVA to determine whether our independent variable (Condition) has an influence on our dependent variable (RT)."
   ]
  },
  {
   "cell_type": "code",
   "execution_count": 4,
   "id": "medieval-spouse",
   "metadata": {},
   "outputs": [],
   "source": [
    "anova_data = pd.read_csv(\"https://raw.githubusercontent.com/ajstewartlang/02_intro_to_python_programming/main/data/ANOVA_data1.csv\")"
   ]
  },
  {
   "cell_type": "code",
   "execution_count": 5,
   "id": "christian-wrong",
   "metadata": {},
   "outputs": [
    {
     "data": {
      "text/html": [
       "<div>\n",
       "<style scoped>\n",
       "    .dataframe tbody tr th:only-of-type {\n",
       "        vertical-align: middle;\n",
       "    }\n",
       "\n",
       "    .dataframe tbody tr th {\n",
       "        vertical-align: top;\n",
       "    }\n",
       "\n",
       "    .dataframe thead th {\n",
       "        text-align: right;\n",
       "    }\n",
       "</style>\n",
       "<table border=\"1\" class=\"dataframe\">\n",
       "  <thead>\n",
       "    <tr style=\"text-align: right;\">\n",
       "      <th></th>\n",
       "      <th>Subject</th>\n",
       "      <th>Condition</th>\n",
       "      <th>RT</th>\n",
       "    </tr>\n",
       "  </thead>\n",
       "  <tbody>\n",
       "    <tr>\n",
       "      <th>0</th>\n",
       "      <td>1</td>\n",
       "      <td>low</td>\n",
       "      <td>1103</td>\n",
       "    </tr>\n",
       "    <tr>\n",
       "      <th>1</th>\n",
       "      <td>2</td>\n",
       "      <td>low</td>\n",
       "      <td>1170</td>\n",
       "    </tr>\n",
       "    <tr>\n",
       "      <th>2</th>\n",
       "      <td>3</td>\n",
       "      <td>low</td>\n",
       "      <td>1225</td>\n",
       "    </tr>\n",
       "    <tr>\n",
       "      <th>3</th>\n",
       "      <td>4</td>\n",
       "      <td>low</td>\n",
       "      <td>1084</td>\n",
       "    </tr>\n",
       "    <tr>\n",
       "      <th>4</th>\n",
       "      <td>5</td>\n",
       "      <td>low</td>\n",
       "      <td>1219</td>\n",
       "    </tr>\n",
       "    <tr>\n",
       "      <th>5</th>\n",
       "      <td>6</td>\n",
       "      <td>low</td>\n",
       "      <td>1203</td>\n",
       "    </tr>\n",
       "    <tr>\n",
       "      <th>6</th>\n",
       "      <td>7</td>\n",
       "      <td>low</td>\n",
       "      <td>1208</td>\n",
       "    </tr>\n",
       "    <tr>\n",
       "      <th>7</th>\n",
       "      <td>8</td>\n",
       "      <td>low</td>\n",
       "      <td>1311</td>\n",
       "    </tr>\n",
       "    <tr>\n",
       "      <th>8</th>\n",
       "      <td>9</td>\n",
       "      <td>low</td>\n",
       "      <td>1078</td>\n",
       "    </tr>\n",
       "    <tr>\n",
       "      <th>9</th>\n",
       "      <td>10</td>\n",
       "      <td>low</td>\n",
       "      <td>1326</td>\n",
       "    </tr>\n",
       "    <tr>\n",
       "      <th>10</th>\n",
       "      <td>11</td>\n",
       "      <td>low</td>\n",
       "      <td>1125</td>\n",
       "    </tr>\n",
       "    <tr>\n",
       "      <th>11</th>\n",
       "      <td>12</td>\n",
       "      <td>low</td>\n",
       "      <td>1086</td>\n",
       "    </tr>\n",
       "    <tr>\n",
       "      <th>12</th>\n",
       "      <td>13</td>\n",
       "      <td>high</td>\n",
       "      <td>828</td>\n",
       "    </tr>\n",
       "    <tr>\n",
       "      <th>13</th>\n",
       "      <td>14</td>\n",
       "      <td>high</td>\n",
       "      <td>925</td>\n",
       "    </tr>\n",
       "    <tr>\n",
       "      <th>14</th>\n",
       "      <td>15</td>\n",
       "      <td>high</td>\n",
       "      <td>915</td>\n",
       "    </tr>\n",
       "    <tr>\n",
       "      <th>15</th>\n",
       "      <td>16</td>\n",
       "      <td>high</td>\n",
       "      <td>869</td>\n",
       "    </tr>\n",
       "    <tr>\n",
       "      <th>16</th>\n",
       "      <td>17</td>\n",
       "      <td>high</td>\n",
       "      <td>804</td>\n",
       "    </tr>\n",
       "    <tr>\n",
       "      <th>17</th>\n",
       "      <td>18</td>\n",
       "      <td>high</td>\n",
       "      <td>835</td>\n",
       "    </tr>\n",
       "    <tr>\n",
       "      <th>18</th>\n",
       "      <td>19</td>\n",
       "      <td>high</td>\n",
       "      <td>1022</td>\n",
       "    </tr>\n",
       "    <tr>\n",
       "      <th>19</th>\n",
       "      <td>20</td>\n",
       "      <td>high</td>\n",
       "      <td>919</td>\n",
       "    </tr>\n",
       "    <tr>\n",
       "      <th>20</th>\n",
       "      <td>21</td>\n",
       "      <td>high</td>\n",
       "      <td>842</td>\n",
       "    </tr>\n",
       "    <tr>\n",
       "      <th>21</th>\n",
       "      <td>22</td>\n",
       "      <td>high</td>\n",
       "      <td>805</td>\n",
       "    </tr>\n",
       "    <tr>\n",
       "      <th>22</th>\n",
       "      <td>23</td>\n",
       "      <td>high</td>\n",
       "      <td>879</td>\n",
       "    </tr>\n",
       "    <tr>\n",
       "      <th>23</th>\n",
       "      <td>24</td>\n",
       "      <td>high</td>\n",
       "      <td>733</td>\n",
       "    </tr>\n",
       "  </tbody>\n",
       "</table>\n",
       "</div>"
      ],
      "text/plain": [
       "    Subject Condition    RT\n",
       "0         1       low  1103\n",
       "1         2       low  1170\n",
       "2         3       low  1225\n",
       "3         4       low  1084\n",
       "4         5       low  1219\n",
       "5         6       low  1203\n",
       "6         7       low  1208\n",
       "7         8       low  1311\n",
       "8         9       low  1078\n",
       "9        10       low  1326\n",
       "10       11       low  1125\n",
       "11       12       low  1086\n",
       "12       13      high   828\n",
       "13       14      high   925\n",
       "14       15      high   915\n",
       "15       16      high   869\n",
       "16       17      high   804\n",
       "17       18      high   835\n",
       "18       19      high  1022\n",
       "19       20      high   919\n",
       "20       21      high   842\n",
       "21       22      high   805\n",
       "22       23      high   879\n",
       "23       24      high   733"
      ]
     },
     "execution_count": 5,
     "metadata": {},
     "output_type": "execute_result"
    }
   ],
   "source": [
    "anova_data"
   ]
  },
  {
   "cell_type": "markdown",
   "id": "entertaining-transcript",
   "metadata": {},
   "source": [
    "## Visualising Our Data\n",
    "\n",
    "In order to visualise the data we need to use the `matplotlib` library. This library contains a range of tools for visualising data. You can read more about it [here](https://matplotlib.org/stable/). "
   ]
  },
  {
   "cell_type": "code",
   "execution_count": 6,
   "id": "opposite-freeware",
   "metadata": {},
   "outputs": [],
   "source": [
    "import matplotlib.pyplot as plt"
   ]
  },
  {
   "cell_type": "markdown",
   "id": "incorporated-beginning",
   "metadata": {},
   "source": [
    "In the code below we used the `plot` function from `pyplot`. We build our final plot layer be layer (similar to how we do things in `R` with `ggplot2`. We define our plot initially in terms of what's on the x-axis, what's on the y-axis, and then what marker we want to use - which in this case is blue circles.\n",
    "\n",
    "After this, we then add an x-axis label, a y-axis label, and a title. We also set the margins to make the plot like nice."
   ]
  },
  {
   "cell_type": "code",
   "execution_count": 48,
   "id": "economic-thumb",
   "metadata": {},
   "outputs": [
    {
     "data": {
      "image/png": "[encoded data removed]",
      "text/plain": [
       "<Figure size 432x288 with 1 Axes>"
      ]
     },
     "metadata": {
      "needs_background": "light"
     },
     "output_type": "display_data"
    }
   ],
   "source": [
    "plt.plot(anova_data['Condition'], anova_data['RT'], 'bo')\n",
    "plt.xlabel('Condition')\n",
    "plt.ylabel('RT (ms.)')\n",
    "plt.title('Reaction Time by Condition')\n",
    "plt.margins(.5, .5)"
   ]
  },
  {
   "cell_type": "markdown",
   "id": "thick-speech",
   "metadata": {},
   "source": [
    "Let's now work out some descriptive statistics using `pandas`  functions. We'll use the `groupby` function to group our RT data by condiiton, and we'll map this onto a new variable I'm calling `grouped`."
   ]
  },
  {
   "cell_type": "code",
   "execution_count": 111,
   "id": "liked-grass",
   "metadata": {},
   "outputs": [],
   "source": [
    "grouped = anova_data.groupby(['Condition'])"
   ]
  },
  {
   "cell_type": "markdown",
   "id": "available-implementation",
   "metadata": {},
   "source": [
    "We can then generate some descriptives about this grouped data frame. We can use the `count` function to work out how many observations we have for each of our two conditions."
   ]
  },
  {
   "cell_type": "code",
   "execution_count": 118,
   "id": "medium-martin",
   "metadata": {},
   "outputs": [
    {
     "data": {
      "text/html": [
       "<div>\n",
       "<style scoped>\n",
       "    .dataframe tbody tr th:only-of-type {\n",
       "        vertical-align: middle;\n",
       "    }\n",
       "\n",
       "    .dataframe tbody tr th {\n",
       "        vertical-align: top;\n",
       "    }\n",
       "\n",
       "    .dataframe thead th {\n",
       "        text-align: right;\n",
       "    }\n",
       "</style>\n",
       "<table border=\"1\" class=\"dataframe\">\n",
       "  <thead>\n",
       "    <tr style=\"text-align: right;\">\n",
       "      <th></th>\n",
       "      <th>Subject</th>\n",
       "      <th>RT</th>\n",
       "    </tr>\n",
       "    <tr>\n",
       "      <th>Condition</th>\n",
       "      <th></th>\n",
       "      <th></th>\n",
       "    </tr>\n",
       "  </thead>\n",
       "  <tbody>\n",
       "    <tr>\n",
       "      <th>high</th>\n",
       "      <td>12</td>\n",
       "      <td>12</td>\n",
       "    </tr>\n",
       "    <tr>\n",
       "      <th>low</th>\n",
       "      <td>12</td>\n",
       "      <td>12</td>\n",
       "    </tr>\n",
       "  </tbody>\n",
       "</table>\n",
       "</div>"
      ],
      "text/plain": [
       "           Subject  RT\n",
       "Condition             \n",
       "high            12  12\n",
       "low             12  12"
      ]
     },
     "execution_count": 118,
     "metadata": {},
     "output_type": "execute_result"
    }
   ],
   "source": [
    "grouped.count()"
   ]
  },
  {
   "cell_type": "markdown",
   "id": "textile-opportunity",
   "metadata": {},
   "source": [
    "If we wanted just to output the count for our `RT` column we could do the following."
   ]
  },
  {
   "cell_type": "code",
   "execution_count": 119,
   "id": "integrated-agent",
   "metadata": {},
   "outputs": [
    {
     "data": {
      "text/plain": [
       "Condition\n",
       "high    12\n",
       "low     12\n",
       "Name: RT, dtype: int64"
      ]
     },
     "execution_count": 119,
     "metadata": {},
     "output_type": "execute_result"
    }
   ],
   "source": [
    "grouped.count()['RT']"
   ]
  },
  {
   "cell_type": "markdown",
   "id": "intellectual-lightning",
   "metadata": {},
   "source": [
    "From the above we can see we have 12 observations in each condition, and our variable RT is type integer. We can use other `pandas` functions such as `mean()` and `std()` in a similar way."
   ]
  },
  {
   "cell_type": "code",
   "execution_count": 114,
   "id": "digital-gothic",
   "metadata": {},
   "outputs": [
    {
     "data": {
      "text/plain": [
       "Condition\n",
       "high     864.666667\n",
       "low     1178.166667\n",
       "Name: RT, dtype: float64"
      ]
     },
     "execution_count": 114,
     "metadata": {},
     "output_type": "execute_result"
    }
   ],
   "source": [
    "grouped.mean()['RT']"
   ]
  },
  {
   "cell_type": "code",
   "execution_count": 115,
   "id": "active-banana",
   "metadata": {},
   "outputs": [
    {
     "data": {
      "text/plain": [
       "Condition\n",
       "high    74.722923\n",
       "low     85.708633\n",
       "Name: RT, dtype: float64"
      ]
     },
     "execution_count": 115,
     "metadata": {},
     "output_type": "execute_result"
    }
   ],
   "source": [
    "grouped.std()['RT']"
   ]
  },
  {
   "cell_type": "markdown",
   "id": "sharp-greeting",
   "metadata": {},
   "source": [
    "We can map our means onto a new variable I'm calling `my_means` and then we can plot these means as a bar graph."
   ]
  },
  {
   "cell_type": "code",
   "execution_count": 117,
   "id": "described-coordinate",
   "metadata": {},
   "outputs": [
    {
     "data": {
      "text/plain": [
       "Text(0.5, 1.0, 'Reaction Time by Condition')"
      ]
     },
     "execution_count": 117,
     "metadata": {},
     "output_type": "execute_result"
    },
    {
     "data": {
      "image/png": "[encoded data removed]",
      "text/plain": [
       "<Figure size 432x288 with 1 Axes>"
      ]
     },
     "metadata": {
      "needs_background": "light"
     },
     "output_type": "display_data"
    }
   ],
   "source": [
    "my_means = grouped.mean()['RT']\n",
    "my_means.plot(kind='bar')\n",
    "plt.ylabel('RT (ms.)')\n",
    "plt.title('Reaction Time by Condition')"
   ]
  },
  {
   "cell_type": "markdown",
   "id": "toxic-acceptance",
   "metadata": {},
   "source": [
    "## One-Way ANOVA\n",
    "\n",
    "To run a between participants one-way ANOVA to determine whether there is a difference between our two conditions we're going to use the `stats` module from the `scipy` library. We import it as follows... "
   ]
  },
  {
   "cell_type": "code",
   "execution_count": 20,
   "id": "piano-portugal",
   "metadata": {},
   "outputs": [],
   "source": [
    "from scipy import stats"
   ]
  },
  {
   "cell_type": "markdown",
   "id": "spectacular-jimmy",
   "metadata": {},
   "source": [
    "We are now going to subset our `anova_data` data frame. We are going to do that by using a logical condition `[anova_data['Condition']=='high']`. If we were to run the following we'd see we have the subset of the data frame where Condition is equal to 'high'."
   ]
  },
  {
   "cell_type": "code",
   "execution_count": 42,
   "id": "intensive-storm",
   "metadata": {},
   "outputs": [
    {
     "data": {
      "text/html": [
       "<div>\n",
       "<style scoped>\n",
       "    .dataframe tbody tr th:only-of-type {\n",
       "        vertical-align: middle;\n",
       "    }\n",
       "\n",
       "    .dataframe tbody tr th {\n",
       "        vertical-align: top;\n",
       "    }\n",
       "\n",
       "    .dataframe thead th {\n",
       "        text-align: right;\n",
       "    }\n",
       "</style>\n",
       "<table border=\"1\" class=\"dataframe\">\n",
       "  <thead>\n",
       "    <tr style=\"text-align: right;\">\n",
       "      <th></th>\n",
       "      <th>Subject</th>\n",
       "      <th>Condition</th>\n",
       "      <th>RT</th>\n",
       "    </tr>\n",
       "  </thead>\n",
       "  <tbody>\n",
       "    <tr>\n",
       "      <th>12</th>\n",
       "      <td>13</td>\n",
       "      <td>high</td>\n",
       "      <td>828</td>\n",
       "    </tr>\n",
       "    <tr>\n",
       "      <th>13</th>\n",
       "      <td>14</td>\n",
       "      <td>high</td>\n",
       "      <td>925</td>\n",
       "    </tr>\n",
       "    <tr>\n",
       "      <th>14</th>\n",
       "      <td>15</td>\n",
       "      <td>high</td>\n",
       "      <td>915</td>\n",
       "    </tr>\n",
       "    <tr>\n",
       "      <th>15</th>\n",
       "      <td>16</td>\n",
       "      <td>high</td>\n",
       "      <td>869</td>\n",
       "    </tr>\n",
       "    <tr>\n",
       "      <th>16</th>\n",
       "      <td>17</td>\n",
       "      <td>high</td>\n",
       "      <td>804</td>\n",
       "    </tr>\n",
       "    <tr>\n",
       "      <th>17</th>\n",
       "      <td>18</td>\n",
       "      <td>high</td>\n",
       "      <td>835</td>\n",
       "    </tr>\n",
       "    <tr>\n",
       "      <th>18</th>\n",
       "      <td>19</td>\n",
       "      <td>high</td>\n",
       "      <td>1022</td>\n",
       "    </tr>\n",
       "    <tr>\n",
       "      <th>19</th>\n",
       "      <td>20</td>\n",
       "      <td>high</td>\n",
       "      <td>919</td>\n",
       "    </tr>\n",
       "    <tr>\n",
       "      <th>20</th>\n",
       "      <td>21</td>\n",
       "      <td>high</td>\n",
       "      <td>842</td>\n",
       "    </tr>\n",
       "    <tr>\n",
       "      <th>21</th>\n",
       "      <td>22</td>\n",
       "      <td>high</td>\n",
       "      <td>805</td>\n",
       "    </tr>\n",
       "    <tr>\n",
       "      <th>22</th>\n",
       "      <td>23</td>\n",
       "      <td>high</td>\n",
       "      <td>879</td>\n",
       "    </tr>\n",
       "    <tr>\n",
       "      <th>23</th>\n",
       "      <td>24</td>\n",
       "      <td>high</td>\n",
       "      <td>733</td>\n",
       "    </tr>\n",
       "  </tbody>\n",
       "</table>\n",
       "</div>"
      ],
      "text/plain": [
       "    Subject Condition    RT\n",
       "12       13      high   828\n",
       "13       14      high   925\n",
       "14       15      high   915\n",
       "15       16      high   869\n",
       "16       17      high   804\n",
       "17       18      high   835\n",
       "18       19      high  1022\n",
       "19       20      high   919\n",
       "20       21      high   842\n",
       "21       22      high   805\n",
       "22       23      high   879\n",
       "23       24      high   733"
      ]
     },
     "execution_count": 42,
     "metadata": {},
     "output_type": "execute_result"
    }
   ],
   "source": [
    "anova_data[anova_data['Condition']=='high']"
   ]
  },
  {
   "cell_type": "markdown",
   "id": "pediatric-mainstream",
   "metadata": {},
   "source": [
    "But what we really want is to just select the `RT` column."
   ]
  },
  {
   "cell_type": "code",
   "execution_count": 44,
   "id": "friendly-cosmetic",
   "metadata": {},
   "outputs": [
    {
     "data": {
      "text/plain": [
       "12     828\n",
       "13     925\n",
       "14     915\n",
       "15     869\n",
       "16     804\n",
       "17     835\n",
       "18    1022\n",
       "19     919\n",
       "20     842\n",
       "21     805\n",
       "22     879\n",
       "23     733\n",
       "Name: RT, dtype: int64"
      ]
     },
     "execution_count": 44,
     "metadata": {},
     "output_type": "execute_result"
    }
   ],
   "source": [
    "anova_data[anova_data['Condition']=='high']['RT']"
   ]
  },
  {
   "cell_type": "markdown",
   "id": "sacred-rescue",
   "metadata": {},
   "source": [
    "By builing on the above we can create two new variables, one corresponding to the data for the `high` condition group and the other for the `low` condition group."
   ]
  },
  {
   "cell_type": "code",
   "execution_count": 45,
   "id": "decent-savannah",
   "metadata": {},
   "outputs": [],
   "source": [
    "high_group = anova_data[anova_data['Condition']=='high']['RT']\n",
    "low_group = anova_data[anova_data['Condition']=='low']['RT']"
   ]
  },
  {
   "cell_type": "markdown",
   "id": "upset-strengthening",
   "metadata": {},
   "source": [
    "We are now in a position to run a 1-way ANOVA. We use the`f_oneway` function in the `stats` module to do this. The two parameters that it needs are the two groups that we are wanting to compare to test the null hypothesis that the two groups have the same population mean. If we had three groups, we would just pass the three groups to the function.  "
   ]
  },
  {
   "cell_type": "code",
   "execution_count": 46,
   "id": "small-rebound",
   "metadata": {},
   "outputs": [
    {
     "data": {
      "text/plain": [
       "F_onewayResult(statistic=91.2168592809951, pvalue=2.767399319989348e-09)"
      ]
     },
     "execution_count": 46,
     "metadata": {},
     "output_type": "execute_result"
    }
   ],
   "source": [
    "stats.f_oneway(high_group, low_group)"
   ]
  },
  {
   "cell_type": "markdown",
   "id": "sophisticated-facial",
   "metadata": {},
   "source": [
    "Remember, the p-value is the probability of obtaining test results at least as extreme as the results observed, under the assumption that the null hypothesis is true. Note, the output above gives us the F-value and the p-value but not the degrees of freedom. As we just have two groups, we could also run an independent sample t-test using the `ttest_ind` function from `stats`."
   ]
  },
  {
   "cell_type": "code",
   "execution_count": 206,
   "id": "unlike-turkish",
   "metadata": {},
   "outputs": [
    {
     "data": {
      "text/plain": [
       "Ttest_indResult(statistic=-9.550751765227444, pvalue=2.7673993199893327e-09)"
      ]
     },
     "execution_count": 206,
     "metadata": {},
     "output_type": "execute_result"
    }
   ],
   "source": [
    "stats.ttest_ind(high_group, low_group)"
   ]
  },
  {
   "cell_type": "markdown",
   "id": "genuine-production",
   "metadata": {},
   "source": [
    "Note that the p-value is the same as we found with our ANOVA - and if we square the t-value we get the F-value."
   ]
  },
  {
   "cell_type": "code",
   "execution_count": 58,
   "id": "likely-differential",
   "metadata": {},
   "outputs": [
    {
     "data": {
      "text/plain": [
       "91.21685928099514"
      ]
     },
     "execution_count": 58,
     "metadata": {},
     "output_type": "execute_result"
    }
   ],
   "source": [
    "9.550751765227444 * 9.550751765227444"
   ]
  },
  {
   "cell_type": "markdown",
   "id": "color-attempt",
   "metadata": {},
   "source": [
    "If we had three groups in our study, we could run the 1-way ANOVA as we did above and then if that it significant run multiple t-tests with a manually adjusted alpha level (e.g., using the Bonferroni correction). One of the limitations with using the `stats` module is that degrees of freedom are not reported, nor is information about the residuals. In order to generate an ANOVA table more like the type we're familiar with we are going to use the statsmodels package. This isn't a package we yet have in our `data_science` environment so we need to install it using the Terminal shell.  \n",
    "\n",
    "Go into your shell and activate the `data_science` environment using `conda activate data_science`. You then need to install the library using `conda install statsmodels`. Once that library is installed, go back to your Jupyer Notebook and you should be able to import the statsmodels library and the ols modules (for ordinary least squares models) as follows."
   ]
  },
  {
   "cell_type": "code",
   "execution_count": 60,
   "id": "addressed-shaft",
   "metadata": {},
   "outputs": [],
   "source": [
    "import statsmodels.api as sm\n",
    "from statsmodels.formula.api import ols"
   ]
  },
  {
   "cell_type": "markdown",
   "id": "ignored-congo",
   "metadata": {},
   "source": [
    "We define our model below using syntact not too disimilar from how we did the same in R. We are going to fit an OLS model to our data where our outcome variable `RT` is predicted by `Condition`. We then present the results in an ANOVA table using Type 3 Sums of Squares. This is much closer to the level of detail that we need."
   ]
  },
  {
   "cell_type": "code",
   "execution_count": 82,
   "id": "previous-credit",
   "metadata": {},
   "outputs": [
    {
     "data": {
      "text/html": [
       "<div>\n",
       "<style scoped>\n",
       "    .dataframe tbody tr th:only-of-type {\n",
       "        vertical-align: middle;\n",
       "    }\n",
       "\n",
       "    .dataframe tbody tr th {\n",
       "        vertical-align: top;\n",
       "    }\n",
       "\n",
       "    .dataframe thead th {\n",
       "        text-align: right;\n",
       "    }\n",
       "</style>\n",
       "<table border=\"1\" class=\"dataframe\">\n",
       "  <thead>\n",
       "    <tr style=\"text-align: right;\">\n",
       "      <th></th>\n",
       "      <th>sum_sq</th>\n",
       "      <th>df</th>\n",
       "      <th>F</th>\n",
       "      <th>PR(&gt;F)</th>\n",
       "    </tr>\n",
       "  </thead>\n",
       "  <tbody>\n",
       "    <tr>\n",
       "      <th>Intercept</th>\n",
       "      <td>8.971781e+06</td>\n",
       "      <td>1.0</td>\n",
       "      <td>1387.801825</td>\n",
       "      <td>2.263783e-21</td>\n",
       "    </tr>\n",
       "    <tr>\n",
       "      <th>Condition</th>\n",
       "      <td>5.896935e+05</td>\n",
       "      <td>1.0</td>\n",
       "      <td>91.216859</td>\n",
       "      <td>2.767399e-09</td>\n",
       "    </tr>\n",
       "    <tr>\n",
       "      <th>Residual</th>\n",
       "      <td>1.422243e+05</td>\n",
       "      <td>22.0</td>\n",
       "      <td>NaN</td>\n",
       "      <td>NaN</td>\n",
       "    </tr>\n",
       "  </tbody>\n",
       "</table>\n",
       "</div>"
      ],
      "text/plain": [
       "                 sum_sq    df            F        PR(>F)\n",
       "Intercept  8.971781e+06   1.0  1387.801825  2.263783e-21\n",
       "Condition  5.896935e+05   1.0    91.216859  2.767399e-09\n",
       "Residual   1.422243e+05  22.0          NaN           NaN"
      ]
     },
     "execution_count": 82,
     "metadata": {},
     "output_type": "execute_result"
    }
   ],
   "source": [
    "model = ols('RT ~ Condition', data=anova_data).fit()\n",
    "anova_table = sm.stats.anova_lm(model, typ=3)\n",
    "anova_table"
   ]
  },
  {
   "cell_type": "markdown",
   "id": "immune-equation",
   "metadata": {},
   "source": [
    "Add challenge here using 1 factor with 3 levels:\n",
    "    \n",
    "    anova_data = pd.read_csv(\"https://raw.githubusercontent.com/ajstewartlang/02_intro_to_python_programming/main/data/ANOVA_data2.csv\")"
   ]
  },
  {
   "cell_type": "markdown",
   "id": "textile-shelf",
   "metadata": {},
   "source": [
    "## Factorial ANOVA\n",
    "\n",
    "In many types of experiments we are interested in how two (or more) experimental factors interact with each other. For example, in a typical priming paradigm experiment we might be interested in whether people's response times to a positively or negatively valenced target stimulus are influenced by whether it was preceded by a positively or negatively valenced prime. "
   ]
  },
  {
   "cell_type": "code",
   "execution_count": 131,
   "id": "unsigned-experiment",
   "metadata": {},
   "outputs": [],
   "source": [
    "factorial_anova_data = pd.read_csv(\"https://raw.githubusercontent.com/ajstewartlang/02_intro_to_python_programming/main/data/ANOVA_data3.csv\")"
   ]
  },
  {
   "cell_type": "code",
   "execution_count": 132,
   "id": "tight-transfer",
   "metadata": {},
   "outputs": [
    {
     "data": {
      "text/html": [
       "<div>\n",
       "<style scoped>\n",
       "    .dataframe tbody tr th:only-of-type {\n",
       "        vertical-align: middle;\n",
       "    }\n",
       "\n",
       "    .dataframe tbody tr th {\n",
       "        vertical-align: top;\n",
       "    }\n",
       "\n",
       "    .dataframe thead th {\n",
       "        text-align: right;\n",
       "    }\n",
       "</style>\n",
       "<table border=\"1\" class=\"dataframe\">\n",
       "  <thead>\n",
       "    <tr style=\"text-align: right;\">\n",
       "      <th></th>\n",
       "      <th>Subject</th>\n",
       "      <th>Prime</th>\n",
       "      <th>Target</th>\n",
       "      <th>RT</th>\n",
       "    </tr>\n",
       "  </thead>\n",
       "  <tbody>\n",
       "    <tr>\n",
       "      <th>0</th>\n",
       "      <td>1</td>\n",
       "      <td>Negative</td>\n",
       "      <td>Positive</td>\n",
       "      <td>1355</td>\n",
       "    </tr>\n",
       "    <tr>\n",
       "      <th>1</th>\n",
       "      <td>2</td>\n",
       "      <td>Negative</td>\n",
       "      <td>Positive</td>\n",
       "      <td>1456</td>\n",
       "    </tr>\n",
       "    <tr>\n",
       "      <th>2</th>\n",
       "      <td>3</td>\n",
       "      <td>Negative</td>\n",
       "      <td>Positive</td>\n",
       "      <td>1538</td>\n",
       "    </tr>\n",
       "    <tr>\n",
       "      <th>3</th>\n",
       "      <td>4</td>\n",
       "      <td>Negative</td>\n",
       "      <td>Positive</td>\n",
       "      <td>1327</td>\n",
       "    </tr>\n",
       "    <tr>\n",
       "      <th>4</th>\n",
       "      <td>5</td>\n",
       "      <td>Negative</td>\n",
       "      <td>Positive</td>\n",
       "      <td>1529</td>\n",
       "    </tr>\n",
       "    <tr>\n",
       "      <th>...</th>\n",
       "      <td>...</td>\n",
       "      <td>...</td>\n",
       "      <td>...</td>\n",
       "      <td>...</td>\n",
       "    </tr>\n",
       "    <tr>\n",
       "      <th>91</th>\n",
       "      <td>20</td>\n",
       "      <td>Negative</td>\n",
       "      <td>Negative</td>\n",
       "      <td>1271</td>\n",
       "    </tr>\n",
       "    <tr>\n",
       "      <th>92</th>\n",
       "      <td>21</td>\n",
       "      <td>Negative</td>\n",
       "      <td>Negative</td>\n",
       "      <td>1315</td>\n",
       "    </tr>\n",
       "    <tr>\n",
       "      <th>93</th>\n",
       "      <td>22</td>\n",
       "      <td>Negative</td>\n",
       "      <td>Negative</td>\n",
       "      <td>1537</td>\n",
       "    </tr>\n",
       "    <tr>\n",
       "      <th>94</th>\n",
       "      <td>23</td>\n",
       "      <td>Negative</td>\n",
       "      <td>Negative</td>\n",
       "      <td>1349</td>\n",
       "    </tr>\n",
       "    <tr>\n",
       "      <th>95</th>\n",
       "      <td>24</td>\n",
       "      <td>Negative</td>\n",
       "      <td>Negative</td>\n",
       "      <td>1390</td>\n",
       "    </tr>\n",
       "  </tbody>\n",
       "</table>\n",
       "<p>96 rows × 4 columns</p>\n",
       "</div>"
      ],
      "text/plain": [
       "    Subject     Prime    Target    RT\n",
       "0         1  Negative  Positive  1355\n",
       "1         2  Negative  Positive  1456\n",
       "2         3  Negative  Positive  1538\n",
       "3         4  Negative  Positive  1327\n",
       "4         5  Negative  Positive  1529\n",
       "..      ...       ...       ...   ...\n",
       "91       20  Negative  Negative  1271\n",
       "92       21  Negative  Negative  1315\n",
       "93       22  Negative  Negative  1537\n",
       "94       23  Negative  Negative  1349\n",
       "95       24  Negative  Negative  1390\n",
       "\n",
       "[96 rows x 4 columns]"
      ]
     },
     "execution_count": 132,
     "metadata": {},
     "output_type": "execute_result"
    }
   ],
   "source": [
    "factorial_anova_data"
   ]
  },
  {
   "cell_type": "code",
   "execution_count": 138,
   "id": "billion-taste",
   "metadata": {},
   "outputs": [
    {
     "data": {
      "text/plain": [
       "Prime     Target  \n",
       "Negative  Negative    1420.166667\n",
       "          Positive    1457.416667\n",
       "Positive  Negative    1228.041667\n",
       "          Positive     593.333333\n",
       "Name: RT, dtype: float64"
      ]
     },
     "execution_count": 138,
     "metadata": {},
     "output_type": "execute_result"
    }
   ],
   "source": [
    "grouped = factorial_anova_data.groupby(['Prime', 'Target'])\n",
    "group_means = grouped.mean()['RT']\n",
    "group_means"
   ]
  },
  {
   "cell_type": "code",
   "execution_count": 143,
   "id": "ahead-behavior",
   "metadata": {},
   "outputs": [
    {
     "data": {
      "text/plain": [
       "<AxesSubplot:xlabel='Prime,Target'>"
      ]
     },
     "execution_count": 143,
     "metadata": {},
     "output_type": "execute_result"
    },
    {
     "data": {
      "image/png": "[encoded data removed]",
      "text/plain": [
       "<Figure size 432x288 with 1 Axes>"
      ]
     },
     "metadata": {
      "needs_background": "light"
     },
     "output_type": "display_data"
    }
   ],
   "source": [
    "group_means.plot(kind=\"bar\")"
   ]
  },
  {
   "cell_type": "markdown",
   "id": "subsequent-patrick",
   "metadata": {},
   "source": [
    "While the above plot looks *ok*, it's a little tricky seeing the nature of the interaciton. Luckily the `statsmodels` library has a function for plotting the kind of interaction we are interested in looking at."
   ]
  },
  {
   "cell_type": "code",
   "execution_count": 147,
   "id": "manufactured-celtic",
   "metadata": {},
   "outputs": [],
   "source": [
    "from statsmodels.graphics.factorplots import interaction_plot"
   ]
  },
  {
   "cell_type": "markdown",
   "id": "spectacular-reply",
   "metadata": {},
   "source": [
    "We need to create a pandas data frame that contains the means for our four conditions, and captures the 2 x 2 nature of our design. We can use `pd.DataFrame` to turn our object of means by condition into a data frame that we can then use in our interaction plot."
   ]
  },
  {
   "cell_type": "code",
   "execution_count": 207,
   "id": "functioning-isaac",
   "metadata": {},
   "outputs": [
    {
     "data": {
      "text/html": [
       "<div>\n",
       "<style scoped>\n",
       "    .dataframe tbody tr th:only-of-type {\n",
       "        vertical-align: middle;\n",
       "    }\n",
       "\n",
       "    .dataframe tbody tr th {\n",
       "        vertical-align: top;\n",
       "    }\n",
       "\n",
       "    .dataframe thead th {\n",
       "        text-align: right;\n",
       "    }\n",
       "</style>\n",
       "<table border=\"1\" class=\"dataframe\">\n",
       "  <thead>\n",
       "    <tr style=\"text-align: right;\">\n",
       "      <th></th>\n",
       "      <th></th>\n",
       "      <th>Subject</th>\n",
       "      <th>RT</th>\n",
       "    </tr>\n",
       "    <tr>\n",
       "      <th>Prime</th>\n",
       "      <th>Target</th>\n",
       "      <th></th>\n",
       "      <th></th>\n",
       "    </tr>\n",
       "  </thead>\n",
       "  <tbody>\n",
       "    <tr>\n",
       "      <th rowspan=\"2\" valign=\"top\">Negative</th>\n",
       "      <th>Negative</th>\n",
       "      <td>12.5</td>\n",
       "      <td>1420.166667</td>\n",
       "    </tr>\n",
       "    <tr>\n",
       "      <th>Positive</th>\n",
       "      <td>12.5</td>\n",
       "      <td>1457.416667</td>\n",
       "    </tr>\n",
       "    <tr>\n",
       "      <th rowspan=\"2\" valign=\"top\">Positive</th>\n",
       "      <th>Negative</th>\n",
       "      <td>12.5</td>\n",
       "      <td>1228.041667</td>\n",
       "    </tr>\n",
       "    <tr>\n",
       "      <th>Positive</th>\n",
       "      <td>12.5</td>\n",
       "      <td>593.333333</td>\n",
       "    </tr>\n",
       "  </tbody>\n",
       "</table>\n",
       "</div>"
      ],
      "text/plain": [
       "                   Subject           RT\n",
       "Prime    Target                        \n",
       "Negative Negative     12.5  1420.166667\n",
       "         Positive     12.5  1457.416667\n",
       "Positive Negative     12.5  1228.041667\n",
       "         Positive     12.5   593.333333"
      ]
     },
     "execution_count": 207,
     "metadata": {},
     "output_type": "execute_result"
    }
   ],
   "source": [
    "group_means = grouped.mean()\n",
    "pd.DataFrame(group_means)"
   ]
  },
  {
   "cell_type": "markdown",
   "id": "periodic-sudan",
   "metadata": {},
   "source": [
    "We need to reset the grouping in the data frame above so that we can use it in our plot. We do that using the `reset_index()` method."
   ]
  },
  {
   "cell_type": "code",
   "execution_count": 214,
   "id": "filled-costa",
   "metadata": {},
   "outputs": [
    {
     "data": {
      "text/html": [
       "<div>\n",
       "<style scoped>\n",
       "    .dataframe tbody tr th:only-of-type {\n",
       "        vertical-align: middle;\n",
       "    }\n",
       "\n",
       "    .dataframe tbody tr th {\n",
       "        vertical-align: top;\n",
       "    }\n",
       "\n",
       "    .dataframe thead th {\n",
       "        text-align: right;\n",
       "    }\n",
       "</style>\n",
       "<table border=\"1\" class=\"dataframe\">\n",
       "  <thead>\n",
       "    <tr style=\"text-align: right;\">\n",
       "      <th></th>\n",
       "      <th>Prime</th>\n",
       "      <th>Target</th>\n",
       "      <th>Subject</th>\n",
       "      <th>RT</th>\n",
       "    </tr>\n",
       "  </thead>\n",
       "  <tbody>\n",
       "    <tr>\n",
       "      <th>0</th>\n",
       "      <td>Negative</td>\n",
       "      <td>Negative</td>\n",
       "      <td>12.5</td>\n",
       "      <td>1420.166667</td>\n",
       "    </tr>\n",
       "    <tr>\n",
       "      <th>1</th>\n",
       "      <td>Negative</td>\n",
       "      <td>Positive</td>\n",
       "      <td>12.5</td>\n",
       "      <td>1457.416667</td>\n",
       "    </tr>\n",
       "    <tr>\n",
       "      <th>2</th>\n",
       "      <td>Positive</td>\n",
       "      <td>Negative</td>\n",
       "      <td>12.5</td>\n",
       "      <td>1228.041667</td>\n",
       "    </tr>\n",
       "    <tr>\n",
       "      <th>3</th>\n",
       "      <td>Positive</td>\n",
       "      <td>Positive</td>\n",
       "      <td>12.5</td>\n",
       "      <td>593.333333</td>\n",
       "    </tr>\n",
       "  </tbody>\n",
       "</table>\n",
       "</div>"
      ],
      "text/plain": [
       "      Prime    Target  Subject           RT\n",
       "0  Negative  Negative     12.5  1420.166667\n",
       "1  Negative  Positive     12.5  1457.416667\n",
       "2  Positive  Negative     12.5  1228.041667\n",
       "3  Positive  Positive     12.5   593.333333"
      ]
     },
     "execution_count": 214,
     "metadata": {},
     "output_type": "execute_result"
    }
   ],
   "source": [
    "to_plot = pd.DataFrame(group_means).reset_index()\n",
    "to_plot"
   ]
  },
  {
   "cell_type": "code",
   "execution_count": null,
   "id": "crazy-portsmouth",
   "metadata": {},
   "outputs": [],
   "source": [
    "The above now looks much more like a standard data frame."
   ]
  },
  {
   "cell_type": "code",
   "execution_count": 213,
   "id": "logical-tooth",
   "metadata": {},
   "outputs": [
    {
     "data": {
      "image/png": "[encoded data removed]",
      "text/plain": [
       "<Figure size 432x288 with 1 Axes>"
      ]
     },
     "metadata": {
      "needs_background": "light"
     },
     "output_type": "display_data"
    }
   ],
   "source": [
    "my_interaction_plot = interaction_plot(x=to_plot['Target'], trace=to_plot['Prime'], \n",
    "                                       response=to_plot['RT'], colors=['red', 'blue'], \n",
    "                                       markers=['D', '^'])\n",
    "plt.xlabel('Target')\n",
    "plt.ylabel('RT (ms.)')\n",
    "plt.title('Reaction Times to Target Type as a Function of Prime Type')\n",
    "plt.ylim(0)\n",
    "plt.margins(.5, 1)"
   ]
  },
  {
   "cell_type": "code",
   "execution_count": 216,
   "id": "minute-literature",
   "metadata": {},
   "outputs": [
    {
     "data": {
      "text/html": [
       "<div>\n",
       "<style scoped>\n",
       "    .dataframe tbody tr th:only-of-type {\n",
       "        vertical-align: middle;\n",
       "    }\n",
       "\n",
       "    .dataframe tbody tr th {\n",
       "        vertical-align: top;\n",
       "    }\n",
       "\n",
       "    .dataframe thead th {\n",
       "        text-align: right;\n",
       "    }\n",
       "</style>\n",
       "<table border=\"1\" class=\"dataframe\">\n",
       "  <thead>\n",
       "    <tr style=\"text-align: right;\">\n",
       "      <th></th>\n",
       "      <th>sum_sq</th>\n",
       "      <th>df</th>\n",
       "      <th>F</th>\n",
       "      <th>PR(&gt;F)</th>\n",
       "    </tr>\n",
       "  </thead>\n",
       "  <tbody>\n",
       "    <tr>\n",
       "      <th>Intercept</th>\n",
       "      <td>4.840496e+07</td>\n",
       "      <td>1.0</td>\n",
       "      <td>3968.144883</td>\n",
       "      <td>1.841050e-77</td>\n",
       "    </tr>\n",
       "    <tr>\n",
       "      <th>Prime</th>\n",
       "      <td>4.429442e+05</td>\n",
       "      <td>1.0</td>\n",
       "      <td>36.311706</td>\n",
       "      <td>3.435161e-08</td>\n",
       "    </tr>\n",
       "    <tr>\n",
       "      <th>Target</th>\n",
       "      <td>1.665075e+04</td>\n",
       "      <td>1.0</td>\n",
       "      <td>1.364996</td>\n",
       "      <td>2.456921e-01</td>\n",
       "    </tr>\n",
       "    <tr>\n",
       "      <th>Prime:Target</th>\n",
       "      <td>2.709168e+06</td>\n",
       "      <td>1.0</td>\n",
       "      <td>222.092344</td>\n",
       "      <td>2.896250e-26</td>\n",
       "    </tr>\n",
       "    <tr>\n",
       "      <th>Residual</th>\n",
       "      <td>1.122251e+06</td>\n",
       "      <td>92.0</td>\n",
       "      <td>NaN</td>\n",
       "      <td>NaN</td>\n",
       "    </tr>\n",
       "  </tbody>\n",
       "</table>\n",
       "</div>"
      ],
      "text/plain": [
       "                    sum_sq    df            F        PR(>F)\n",
       "Intercept     4.840496e+07   1.0  3968.144883  1.841050e-77\n",
       "Prime         4.429442e+05   1.0    36.311706  3.435161e-08\n",
       "Target        1.665075e+04   1.0     1.364996  2.456921e-01\n",
       "Prime:Target  2.709168e+06   1.0   222.092344  2.896250e-26\n",
       "Residual      1.122251e+06  92.0          NaN           NaN"
      ]
     },
     "execution_count": 216,
     "metadata": {},
     "output_type": "execute_result"
    }
   ],
   "source": [
    "factorial_model = ols('RT ~ Prime * Target', data=factorial_anova_data).fit()\n",
    "anova_table = sm.stats.anova_lm(factorial_model, typ=3)\n",
    "anova_table"
   ]
  },
  {
   "cell_type": "code",
   "execution_count": null,
   "id": "nonprofit-threat",
   "metadata": {},
   "outputs": [],
   "source": []
  }
 ],
 "metadata": {
  "kernelspec": {
   "display_name": "Python (data_science)",
   "language": "python",
   "name": "data_science"
  },
  "language_info": {
   "codemirror_mode": {
    "name": "ipython",
    "version": 3
   },
   "file_extension": ".py",
   "mimetype": "text/x-python",
   "name": "python",
   "nbconvert_exporter": "python",
   "pygments_lexer": "ipython3",
   "version": "3.8.5"
  }
 },
 "nbformat": 4,
 "nbformat_minor": 5
}
